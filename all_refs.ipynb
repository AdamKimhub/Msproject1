{
 "cells": [
  {
   "cell_type": "code",
   "execution_count": 1,
   "id": "19006748",
   "metadata": {},
   "outputs": [],
   "source": [
    "import pandas as pd\n",
    "from pymatgen.core import Structure\n",
    "import ast"
   ]
  },
  {
   "cell_type": "code",
   "execution_count": null,
   "id": "fc66d160",
   "metadata": {},
   "outputs": [],
   "source": [
    "# Get reference files\n",
    "init_structure_df = pd.read_csv(\"dataset/initial_structures.csv\")\n",
    "materials = [\"high_BN\", \"high_P\", \"high_InSe\", \"high_GaSe\", \"high_MoS2\", \"high_WSe2\", \"low_MoS2\", \"low_WSe2\"]\n",
    "\n",
    "for i in materials:\n",
    "    # The material\n",
    "    base = i.split(\"_\")[1]\n",
    "\n",
    "    # The unit cell structure\n",
    "    unit_structure = Structure.from_file(f\"dataset/{i}/{base}.cif\")\n",
    "\n",
    "    # The cell matrix\n",
    "    cell_matrix = init_structure_df.loc[init_structure_df[\"base\"] == base, \"cell_size\"].iloc[0]\n",
    "    cell_matrix = ast.literal_eval(cell_matrix)\n",
    "\n",
    "    # Create the reference structure\n",
    "    ref_structure = unit_structure.make_supercell(cell_matrix)\n",
    "\n",
    "    ref_structure.to(filename=f\"dataset/ref_cifs/{i}.cif\")"
   ]
  }
 ],
 "metadata": {
  "kernelspec": {
   "display_name": "MsProject",
   "language": "python",
   "name": "python3"
  },
  "language_info": {
   "codemirror_mode": {
    "name": "ipython",
    "version": 3
   },
   "file_extension": ".py",
   "mimetype": "text/x-python",
   "name": "python",
   "nbconvert_exporter": "python",
   "pygments_lexer": "ipython3",
   "version": "3.13.2"
  }
 },
 "nbformat": 4,
 "nbformat_minor": 5
}

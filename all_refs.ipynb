{
 "cells": [
  {
   "cell_type": "code",
   "execution_count": 1,
   "id": "19006748",
   "metadata": {},
   "outputs": [],
   "source": [
    "import pandas as pd\n",
    "from pymatgen.core import Structure\n",
    "import ast"
   ]
  },
  {
   "cell_type": "code",
   "execution_count": null,
   "id": "fc66d160",
   "metadata": {},
   "outputs": [
    {
     "name": "stderr",
     "output_type": "stream",
     "text": [
      "/home/adam/anaconda3/envs/MsProject/lib/python3.13/site-packages/pymatgen/io/cif.py:1290: UserWarning: Issues encountered while parsing CIF: 4 fractional coordinates rounded to ideal values to avoid issues with finite precision.\n",
      "  warnings.warn(\"Issues encountered while parsing CIF: \" + \"\\n\".join(self.warnings))\n",
      "/home/adam/anaconda3/envs/MsProject/lib/python3.13/site-packages/pymatgen/io/cif.py:1664: UserWarning: Site labels are not unique, which is not compliant with the CIF spec (https://www.iucr.org/__data/iucr/cifdic_html/1/cif_core.dic/Iatom_site_label.html):`['B0', 'B0', 'B0', 'B0', 'B0', 'B0', 'B0', 'B0', 'B0', 'B0', 'B0', 'B0', 'B0', 'B0', 'B0', 'B0', 'B0', 'B0', 'B0', 'B0', 'B0', 'B0', 'B0', 'B0', 'B0', 'B0', 'B0', 'B0', 'B0', 'B0', 'B0', 'B0', 'B0', 'B0', 'B0', 'B0', 'B0', 'B0', 'B0', 'B0', 'B0', 'B0', 'B0', 'B0', 'B0', 'B0', 'B0', 'B0', 'B0', 'B0', 'B0', 'B0', 'B0', 'B0', 'B0', 'B0', 'B0', 'B0', 'B0', 'B0', 'B0', 'B0', 'B0', 'B0', 'N3', 'N3', 'N3', 'N3', 'N3', 'N3', 'N3', 'N3', 'N3', 'N3', 'N3', 'N3', 'N3', 'N3', 'N3', 'N3', 'N3', 'N3', 'N3', 'N3', 'N3', 'N3', 'N3', 'N3', 'N3', 'N3', 'N3', 'N3', 'N3', 'N3', 'N3', 'N3', 'N3', 'N3', 'N3', 'N3', 'N3', 'N3', 'N3', 'N3', 'N3', 'N3', 'N3', 'N3', 'N3', 'N3', 'N3', 'N3', 'N3', 'N3', 'N3', 'N3', 'N3', 'N3', 'N3', 'N3', 'N3', 'N3', 'N3', 'N3', 'N3', 'N3', 'N3', 'N3']`.\n",
      "  warnings.warn(\n",
      "/home/adam/anaconda3/envs/MsProject/lib/python3.13/site-packages/pymatgen/io/cif.py:1724: FutureWarning: We strongly discourage using implicit binary/text `mode`, and this would not be allowed after 2025-06-01. I.e. you should pass t/b in `mode`.\n",
      "  with zopen(filename, mode=mode) as file:\n",
      "/home/adam/anaconda3/envs/MsProject/lib/python3.13/site-packages/pymatgen/io/cif.py:1664: UserWarning: Site labels are not unique, which is not compliant with the CIF spec (https://www.iucr.org/__data/iucr/cifdic_html/1/cif_core.dic/Iatom_site_label.html):`['P0', 'P0', 'P0', 'P0', 'P0', 'P0', 'P0', 'P0', 'P0', 'P0', 'P0', 'P0', 'P0', 'P0', 'P0', 'P0', 'P0', 'P0', 'P0', 'P0', 'P0', 'P0', 'P0', 'P0', 'P0', 'P0', 'P0', 'P0', 'P0', 'P0', 'P0', 'P0', 'P0', 'P0', 'P0', 'P0', 'P1', 'P1', 'P1', 'P1', 'P1', 'P1', 'P1', 'P1', 'P1', 'P1', 'P1', 'P1', 'P1', 'P1', 'P1', 'P1', 'P1', 'P1', 'P1', 'P1', 'P1', 'P1', 'P1', 'P1', 'P1', 'P1', 'P1', 'P1', 'P1', 'P1', 'P1', 'P1', 'P1', 'P1', 'P1', 'P1', 'P2', 'P2', 'P2', 'P2', 'P2', 'P2', 'P2', 'P2', 'P2', 'P2', 'P2', 'P2', 'P2', 'P2', 'P2', 'P2', 'P2', 'P2', 'P2', 'P2', 'P2', 'P2', 'P2', 'P2', 'P2', 'P2', 'P2', 'P2', 'P2', 'P2', 'P2', 'P2', 'P2', 'P2', 'P2', 'P2', 'P3', 'P3', 'P3', 'P3', 'P3', 'P3', 'P3', 'P3', 'P3', 'P3', 'P3', 'P3', 'P3', 'P3', 'P3', 'P3', 'P3', 'P3', 'P3', 'P3', 'P3', 'P3', 'P3', 'P3', 'P3', 'P3', 'P3', 'P3', 'P3', 'P3', 'P3', 'P3', 'P3', 'P3', 'P3', 'P3']`.\n",
      "  warnings.warn(\n",
      "/home/adam/anaconda3/envs/MsProject/lib/python3.13/site-packages/pymatgen/io/cif.py:1290: UserWarning: Issues encountered while parsing CIF: 8 fractional coordinates rounded to ideal values to avoid issues with finite precision.\n",
      "  warnings.warn(\"Issues encountered while parsing CIF: \" + \"\\n\".join(self.warnings))\n",
      "/home/adam/anaconda3/envs/MsProject/lib/python3.13/site-packages/pymatgen/io/cif.py:1664: UserWarning: Site labels are not unique, which is not compliant with the CIF spec (https://www.iucr.org/__data/iucr/cifdic_html/1/cif_core.dic/Iatom_site_label.html):`['In0', 'In0', 'In0', 'In0', 'In0', 'In0', 'In0', 'In0', 'In0', 'In0', 'In0', 'In0', 'In0', 'In0', 'In0', 'In0', 'In0', 'In0', 'In0', 'In0', 'In0', 'In0', 'In0', 'In0', 'In0', 'In0', 'In0', 'In0', 'In0', 'In0', 'In0', 'In0', 'In0', 'In0', 'In0', 'In0', 'In1', 'In1', 'In1', 'In1', 'In1', 'In1', 'In1', 'In1', 'In1', 'In1', 'In1', 'In1', 'In1', 'In1', 'In1', 'In1', 'In1', 'In1', 'In1', 'In1', 'In1', 'In1', 'In1', 'In1', 'In1', 'In1', 'In1', 'In1', 'In1', 'In1', 'In1', 'In1', 'In1', 'In1', 'In1', 'In1', 'Se2', 'Se2', 'Se2', 'Se2', 'Se2', 'Se2', 'Se2', 'Se2', 'Se2', 'Se2', 'Se2', 'Se2', 'Se2', 'Se2', 'Se2', 'Se2', 'Se2', 'Se2', 'Se2', 'Se2', 'Se2', 'Se2', 'Se2', 'Se2', 'Se2', 'Se2', 'Se2', 'Se2', 'Se2', 'Se2', 'Se2', 'Se2', 'Se2', 'Se2', 'Se2', 'Se2', 'Se3', 'Se3', 'Se3', 'Se3', 'Se3', 'Se3', 'Se3', 'Se3', 'Se3', 'Se3', 'Se3', 'Se3', 'Se3', 'Se3', 'Se3', 'Se3', 'Se3', 'Se3', 'Se3', 'Se3', 'Se3', 'Se3', 'Se3', 'Se3', 'Se3', 'Se3', 'Se3', 'Se3', 'Se3', 'Se3', 'Se3', 'Se3', 'Se3', 'Se3', 'Se3', 'Se3']`.\n",
      "  warnings.warn(\n",
      "/home/adam/anaconda3/envs/MsProject/lib/python3.13/site-packages/pymatgen/io/cif.py:1664: UserWarning: Site labels are not unique, which is not compliant with the CIF spec (https://www.iucr.org/__data/iucr/cifdic_html/1/cif_core.dic/Iatom_site_label.html):`['Ga0', 'Ga0', 'Ga0', 'Ga0', 'Ga0', 'Ga0', 'Ga0', 'Ga0', 'Ga0', 'Ga0', 'Ga0', 'Ga0', 'Ga0', 'Ga0', 'Ga0', 'Ga0', 'Ga0', 'Ga0', 'Ga0', 'Ga0', 'Ga0', 'Ga0', 'Ga0', 'Ga0', 'Ga0', 'Ga0', 'Ga0', 'Ga0', 'Ga0', 'Ga0', 'Ga0', 'Ga0', 'Ga0', 'Ga0', 'Ga0', 'Ga0', 'Ga1', 'Ga1', 'Ga1', 'Ga1', 'Ga1', 'Ga1', 'Ga1', 'Ga1', 'Ga1', 'Ga1', 'Ga1', 'Ga1', 'Ga1', 'Ga1', 'Ga1', 'Ga1', 'Ga1', 'Ga1', 'Ga1', 'Ga1', 'Ga1', 'Ga1', 'Ga1', 'Ga1', 'Ga1', 'Ga1', 'Ga1', 'Ga1', 'Ga1', 'Ga1', 'Ga1', 'Ga1', 'Ga1', 'Ga1', 'Ga1', 'Ga1', 'Se2', 'Se2', 'Se2', 'Se2', 'Se2', 'Se2', 'Se2', 'Se2', 'Se2', 'Se2', 'Se2', 'Se2', 'Se2', 'Se2', 'Se2', 'Se2', 'Se2', 'Se2', 'Se2', 'Se2', 'Se2', 'Se2', 'Se2', 'Se2', 'Se2', 'Se2', 'Se2', 'Se2', 'Se2', 'Se2', 'Se2', 'Se2', 'Se2', 'Se2', 'Se2', 'Se2', 'Se3', 'Se3', 'Se3', 'Se3', 'Se3', 'Se3', 'Se3', 'Se3', 'Se3', 'Se3', 'Se3', 'Se3', 'Se3', 'Se3', 'Se3', 'Se3', 'Se3', 'Se3', 'Se3', 'Se3', 'Se3', 'Se3', 'Se3', 'Se3', 'Se3', 'Se3', 'Se3', 'Se3', 'Se3', 'Se3', 'Se3', 'Se3', 'Se3', 'Se3', 'Se3', 'Se3']`.\n",
      "  warnings.warn(\n",
      "/home/adam/anaconda3/envs/MsProject/lib/python3.13/site-packages/pymatgen/io/cif.py:1290: UserWarning: Issues encountered while parsing CIF: 6 fractional coordinates rounded to ideal values to avoid issues with finite precision.\n",
      "  warnings.warn(\"Issues encountered while parsing CIF: \" + \"\\n\".join(self.warnings))\n",
      "/home/adam/anaconda3/envs/MsProject/lib/python3.13/site-packages/pymatgen/io/cif.py:1664: UserWarning: Site labels are not unique, which is not compliant with the CIF spec (https://www.iucr.org/__data/iucr/cifdic_html/1/cif_core.dic/Iatom_site_label.html):`['Mo0', 'Mo0', 'Mo0', 'Mo0', 'Mo0', 'Mo0', 'Mo0', 'Mo0', 'Mo0', 'Mo0', 'Mo0', 'Mo0', 'Mo0', 'Mo0', 'Mo0', 'Mo0', 'Mo0', 'Mo0', 'Mo0', 'Mo0', 'Mo0', 'Mo0', 'Mo0', 'Mo0', 'Mo0', 'Mo0', 'Mo0', 'Mo0', 'Mo0', 'Mo0', 'Mo0', 'Mo0', 'Mo0', 'Mo0', 'Mo0', 'Mo0', 'Mo0', 'Mo0', 'Mo0', 'Mo0', 'Mo0', 'Mo0', 'Mo0', 'Mo0', 'Mo0', 'Mo0', 'Mo0', 'Mo0', 'Mo0', 'Mo0', 'Mo0', 'Mo0', 'Mo0', 'Mo0', 'Mo0', 'Mo0', 'Mo0', 'Mo0', 'Mo0', 'Mo0', 'Mo0', 'Mo0', 'Mo0', 'Mo0', 'S1', 'S1', 'S1', 'S1', 'S1', 'S1', 'S1', 'S1', 'S1', 'S1', 'S1', 'S1', 'S1', 'S1', 'S1', 'S1', 'S1', 'S1', 'S1', 'S1', 'S1', 'S1', 'S1', 'S1', 'S1', 'S1', 'S1', 'S1', 'S1', 'S1', 'S1', 'S1', 'S1', 'S1', 'S1', 'S1', 'S1', 'S1', 'S1', 'S1', 'S1', 'S1', 'S1', 'S1', 'S1', 'S1', 'S1', 'S1', 'S1', 'S1', 'S1', 'S1', 'S1', 'S1', 'S1', 'S1', 'S1', 'S1', 'S1', 'S1', 'S1', 'S1', 'S1', 'S1', 'S2', 'S2', 'S2', 'S2', 'S2', 'S2', 'S2', 'S2', 'S2', 'S2', 'S2', 'S2', 'S2', 'S2', 'S2', 'S2', 'S2', 'S2', 'S2', 'S2', 'S2', 'S2', 'S2', 'S2', 'S2', 'S2', 'S2', 'S2', 'S2', 'S2', 'S2', 'S2', 'S2', 'S2', 'S2', 'S2', 'S2', 'S2', 'S2', 'S2', 'S2', 'S2', 'S2', 'S2', 'S2', 'S2', 'S2', 'S2', 'S2', 'S2', 'S2', 'S2', 'S2', 'S2', 'S2', 'S2', 'S2', 'S2', 'S2', 'S2', 'S2', 'S2', 'S2', 'S2']`.\n",
      "  warnings.warn(\n",
      "/home/adam/anaconda3/envs/MsProject/lib/python3.13/site-packages/pymatgen/io/cif.py:1664: UserWarning: Site labels are not unique, which is not compliant with the CIF spec (https://www.iucr.org/__data/iucr/cifdic_html/1/cif_core.dic/Iatom_site_label.html):`['W0', 'W0', 'W0', 'W0', 'W0', 'W0', 'W0', 'W0', 'W0', 'W0', 'W0', 'W0', 'W0', 'W0', 'W0', 'W0', 'W0', 'W0', 'W0', 'W0', 'W0', 'W0', 'W0', 'W0', 'W0', 'W0', 'W0', 'W0', 'W0', 'W0', 'W0', 'W0', 'W0', 'W0', 'W0', 'W0', 'W0', 'W0', 'W0', 'W0', 'W0', 'W0', 'W0', 'W0', 'W0', 'W0', 'W0', 'W0', 'W0', 'W0', 'W0', 'W0', 'W0', 'W0', 'W0', 'W0', 'W0', 'W0', 'W0', 'W0', 'W0', 'W0', 'W0', 'W0', 'Se1', 'Se1', 'Se1', 'Se1', 'Se1', 'Se1', 'Se1', 'Se1', 'Se1', 'Se1', 'Se1', 'Se1', 'Se1', 'Se1', 'Se1', 'Se1', 'Se1', 'Se1', 'Se1', 'Se1', 'Se1', 'Se1', 'Se1', 'Se1', 'Se1', 'Se1', 'Se1', 'Se1', 'Se1', 'Se1', 'Se1', 'Se1', 'Se1', 'Se1', 'Se1', 'Se1', 'Se1', 'Se1', 'Se1', 'Se1', 'Se1', 'Se1', 'Se1', 'Se1', 'Se1', 'Se1', 'Se1', 'Se1', 'Se1', 'Se1', 'Se1', 'Se1', 'Se1', 'Se1', 'Se1', 'Se1', 'Se1', 'Se1', 'Se1', 'Se1', 'Se1', 'Se1', 'Se1', 'Se1', 'Se2', 'Se2', 'Se2', 'Se2', 'Se2', 'Se2', 'Se2', 'Se2', 'Se2', 'Se2', 'Se2', 'Se2', 'Se2', 'Se2', 'Se2', 'Se2', 'Se2', 'Se2', 'Se2', 'Se2', 'Se2', 'Se2', 'Se2', 'Se2', 'Se2', 'Se2', 'Se2', 'Se2', 'Se2', 'Se2', 'Se2', 'Se2', 'Se2', 'Se2', 'Se2', 'Se2', 'Se2', 'Se2', 'Se2', 'Se2', 'Se2', 'Se2', 'Se2', 'Se2', 'Se2', 'Se2', 'Se2', 'Se2', 'Se2', 'Se2', 'Se2', 'Se2', 'Se2', 'Se2', 'Se2', 'Se2', 'Se2', 'Se2', 'Se2', 'Se2', 'Se2', 'Se2', 'Se2', 'Se2']`.\n",
      "  warnings.warn(\n"
     ]
    }
   ],
   "source": [
    "# The datasets\n",
    "original_data = \"original_dataset\"\n",
    "final_data = \"final_dataset\"\n",
    "\n",
    "# Get reference files\n",
    "init_structure_df = pd.read_csv(f\"{original_data}/initial_structures.csv\")\n",
    "materials = [\"high_BN\", \"high_P\", \"high_InSe\", \"high_GaSe\", \"high_MoS2\", \"high_WSe2\", \"low_MoS2\", \"low_WSe2\"]\n",
    "\n",
    "for i in materials:\n",
    "    # The material\n",
    "    base = i.split(\"_\")[1]\n",
    "\n",
    "    # The unit cell structure\n",
    "    unit_structure = Structure.from_file(f\"{original_data}/{i}/{base}.cif\")\n",
    "\n",
    "    # The cell matrix\n",
    "    cell_matrix = init_structure_df.loc[init_structure_df[\"base\"] == base, \"cell_size\"].iloc[0]\n",
    "    cell_matrix = ast.literal_eval(cell_matrix)\n",
    "\n",
    "    # Create the reference structure\n",
    "    ref_structure = unit_structure.make_supercell(cell_matrix)\n",
    "\n",
    "    ref_structure.to(filename=f\"{final_data}/ref_cifs/{i}.cif\")"
   ]
  }
 ],
 "metadata": {
  "kernelspec": {
   "display_name": "MsProject",
   "language": "python",
   "name": "python3"
  },
  "language_info": {
   "codemirror_mode": {
    "name": "ipython",
    "version": 3
   },
   "file_extension": ".py",
   "mimetype": "text/x-python",
   "name": "python",
   "nbconvert_exporter": "python",
   "pygments_lexer": "ipython3",
   "version": "3.13.2"
  }
 },
 "nbformat": 4,
 "nbformat_minor": 5
}

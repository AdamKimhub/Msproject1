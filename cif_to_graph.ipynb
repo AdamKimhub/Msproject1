{
 "cells": [
  {
   "cell_type": "code",
   "execution_count": 1,
   "metadata": {},
   "outputs": [],
   "source": [
    "import sys\n",
    "\n",
    "if \"google.colab\" in sys.modules:\n",
    "    # Mount Google Drive\n",
    "    from google.colab import drive\n",
    "    drive.mount('/content/drive')\n",
    "    dataset_path = '/content/drive/My Drive/dataset'\n",
    "\n",
    "    # Install required packages\n",
    "    !pip install pymatgen\n",
    "\n",
    "else:\n",
    "    dataset_path = 'dataset'"
   ]
  },
  {
   "cell_type": "code",
   "execution_count": 2,
   "metadata": {},
   "outputs": [],
   "source": [
    "from pathlib import Path\n",
    "import ast\n",
    "import numpy as np\n",
    "import pandas as pd\n",
    "from pymatgen.core import Structure, PeriodicSite, DummySpecie\n",
    "from pymatgen.analysis.local_env import MinimumDistanceNN\n"
   ]
  },
  {
   "cell_type": "code",
   "execution_count": 4,
   "metadata": {},
   "outputs": [
    {
     "name": "stderr",
     "output_type": "stream",
     "text": [
      "/home/adam/anaconda3/envs/MsProject/lib/python3.13/site-packages/pymatgen/io/cif.py:1290: UserWarning: Issues encountered while parsing CIF: 8 fractional coordinates rounded to ideal values to avoid issues with finite precision.\n",
      "  warnings.warn(\"Issues encountered while parsing CIF: \" + \"\\n\".join(self.warnings))\n"
     ]
    }
   ],
   "source": [
    "# Get defective structure\n",
    "defective_file_path = Path(f\"{dataset_path}/high_GaSe/cifs/GaSe_Ga72Se69S1_90b1b09f-acf0-46e6-8173-a2e71c884054.cif\")\n",
    "defective_structure = Structure.from_file(defective_file_path)\n",
    "\n",
    "# Get reference structure\n",
    "ref_file_path = Path(f\"{dataset_path}/high_GaSe/GaSe.cif\")\n",
    "ref_unit_cell = Structure.from_file(ref_file_path)\n",
    "reference_structure = ref_unit_cell.make_supercell([6,6,1])\n",
    "\n"
   ]
  },
  {
   "cell_type": "code",
   "execution_count": null,
   "metadata": {},
   "outputs": [],
   "source": []
  },
  {
   "cell_type": "code",
   "execution_count": 4,
   "metadata": {},
   "outputs": [],
   "source": [
    "def struct_to_dict(structure):\n",
    "    list_of_sites = structure.sites\n",
    "    list_of_frac_coords = np.round(structure.frac_coords,3)\n",
    "    structure_dict = {i: j for i, j in zip(list_of_sites, list_of_frac_coords)}\n",
    "    return structure_dict\n",
    "\n",
    "def get_index(ref_struct, a_site):\n",
    "    for index, site in enumerate(ref_struct.sites):\n",
    "        if np.array_equal(site.coords, a_site.coords):\n",
    "            return index\n",
    "\n",
    "\n",
    "def get_defects_structure(defective_struct, reference_struct):\n",
    "    copy_defective_struct = defective_struct.copy()\n",
    "    mindnn = MinimumDistanceNN()\n",
    "    # struct to dict\n",
    "    defective_dict = struct_to_dict(copy_defective_struct)\n",
    "    reference_dict = struct_to_dict(reference_struct)\n",
    "\n",
    "    # Get lattice of defective structure\n",
    "    structure_lattice = copy_defective_struct.lattice\n",
    "\n",
    "    # List to add all defect sites\n",
    "    defects_list = []\n",
    "\n",
    "    # Dictionary to hold properties of each defect site\n",
    "    defects_properties = {} \n",
    "\n",
    "    for ref_site, ref_coords in reference_dict.items():\n",
    "        matching = False\n",
    "        for def_site, def_coords in defective_dict.items():\n",
    "            if np.array_equal(ref_coords, def_coords):\n",
    "                matching = True\n",
    "                if ref_site.specie != def_site.specie: # Substitution case\n",
    "                    # Add site to defects list\n",
    "                    defects_list.append(def_site)\n",
    "\n",
    "                    # Get atomic number change and defect type\n",
    "                    add_property = {\"original_an\":ref_site.specie.Z,\n",
    "                                    \"new_an\": def_site.specie.Z,\n",
    "                                    \"an_change\": def_site.specie.Z - ref_site.specie.Z,\n",
    "                                    \"vacancy_defect\": 0.0,\n",
    "                                    \"substitution_defect\": 1.0,\n",
    "                                    \"bonds_broken\": 0.0}\n",
    "                    defects_properties[def_site] = add_property\n",
    "\n",
    "        if not matching: # Vacancy case\n",
    "            # Add site to defective structure\n",
    "            vacant_site = PeriodicSite(\n",
    "                species= DummySpecie(),\n",
    "                coords= ref_coords,\n",
    "                coords_are_cartesian= False, \n",
    "                lattice= structure_lattice\n",
    "                )\n",
    "            \n",
    "            # Add site to defects list\n",
    "            defects_list.append(vacant_site)\n",
    "\n",
    "            # Get atomic number change and defect type\n",
    "            add_property={\"original_an\":ref_site.specie.Z,\n",
    "                          \"new_an\": 0,\n",
    "                          \"an_change\": 0 - ref_site.specie.Z,\n",
    "                          \"vacancy_defect\": 1.0,\n",
    "                          \"substitution_defect\": 0.0,\n",
    "                          \"bonds_broken\": mindnn.get_cn(reference_struct, get_index(reference_struct, ref_site))}\n",
    "            defects_properties[vacant_site] = add_property\n",
    "\n",
    "    # create a defects structure\n",
    "    defects_struct = Structure.from_sites(defects_list)\n",
    "\n",
    "    # Add properties to defects structure\n",
    "    for a_site in defects_struct.sites:\n",
    "        if a_site in defects_properties.keys():\n",
    "            a_site.properties.update(defects_properties[a_site])\n",
    "        else:\n",
    "            pass\n",
    "\n",
    "    return defects_struct\n",
    "\n",
    "# defects_structure = get_defects_structure(defective_structure, reference_structure)\n",
    "# print(defects_structure)"
   ]
  },
  {
   "cell_type": "code",
   "execution_count": null,
   "metadata": {},
   "outputs": [],
   "source": [
    "the_csv = pd.read_csv(f\"{dataset_path}/combined/high_GaSe.csv\")\n",
    "for i in range(len(the_csv)):\n",
    "    defective_file_path = Path(f\"{dataset_path}/{the_csv['dataset_material'][i]}/cifs/{the_csv['_id'][i]}.cif\")\n",
    "    defective_structure = Structure.from_file(defective_file_path)\n",
    "\n",
    "    ref_file_path = Path(f\"{dataset_path}/{the_csv['dataset_material'][i]}/{the_csv['base'][i]}.cif\")\n",
    "    ref_unit_cell = Structure.from_file(ref_file_path)\n",
    "    reference_structure = ref_unit_cell.make_supercell(ast.literal_eval(f\"{the_csv['cell'][i]}\"))\n",
    "\n",
    "    def_struct = get_defects_structure(defective_structure, reference_structure)\n",
    "    print(def_struct)\n",
    "    "
   ]
  },
  {
   "cell_type": "code",
   "execution_count": 50,
   "metadata": {},
   "outputs": [
    {
     "name": "stdout",
     "output_type": "stream",
     "text": [
      "[[0, 0.0, 34, 16, -18, 0.0, 1.0], [1, 3, 34, 0, -34, 1.0, 0.0], [2, 3, 34, 0, -34, 1.0, 0.0]]\n",
      "[[0, 1], [0, 2], [1, 0], [1, 2], [2, 0], [2, 1]]\n",
      "[[np.float64(13.218612878118082)], [np.float64(6.143837688715257)], [np.float64(13.218612878118082)], [np.float64(11.185157478479823)], [np.float64(6.143837688715257)], [np.float64(11.185157478479823)]]\n"
     ]
    }
   ],
   "source": [
    "def get_nodes_edges(structure):\n",
    "    sites_list = structure.sites\n",
    "\n",
    "    # The nodes: These are the sites features\n",
    "    nodes = []\n",
    "    for i, site in enumerate(sites_list):\n",
    "        node_features = [i, site.properties[\"bonds_broken\"], site.properties[\"original_an\"], site.properties[\"new_an\"],\n",
    "                         site.properties[\"an_change\"], site.properties[\"vacancy_defect\"],\n",
    "                         site.properties[\"substitution_defect\"]]\n",
    "        # Node features syntax\n",
    "        '''[index of site, number of nearset neighbors to site, Z_before defect,\n",
    "        Z_after defect, Z_change, is site vac_site(1  for yes, 0 for no), is site sub_site(1 for yes, 0 for no)]'''\n",
    "        nodes.append(node_features)\n",
    "         \n",
    "\n",
    "    # The edges\n",
    "    edges = [] # The sites in relation\n",
    "    edge_features = [] # The distance between each site\n",
    "    \n",
    "    for i, site_i in enumerate(sites_list):\n",
    "        for j, site_j  in enumerate(sites_list):\n",
    "            if i != j:\n",
    "                edges.append([i,j])\n",
    "                dist = site_i.distance(site_j)\n",
    "                edge_features.append([dist])\n",
    "\n",
    "    return nodes, edges, edge_features\n",
    "\n",
    "the_nodes, the_edges, the_edge_features = get_nodes_edges(defects_structure)\n",
    "print(the_nodes)\n",
    "print(the_edges)\n",
    "print(the_edge_features)"
   ]
  },
  {
   "cell_type": "code",
   "execution_count": null,
   "metadata": {},
   "outputs": [],
   "source": [
    "def get_gf_tf(df, cif_id):\n",
    "    # The global attributes\n",
    "    global_attributes = [\"energy\",\"fermi_level\",\"total_mag\",\"formation_energy\",\n",
    "                         \"energy_per_atom\",\"E_1\",\"vacancy_sites\",\n",
    "                         \"substitution_sites\",\"defect_sites\"\n",
    "                         ]\n",
    "    \n",
    "    target_attribute = \"band_gap_value\"\n",
    "    \n",
    "    # Get index of cif id\n",
    "    index_value = df[df[\"_id\"] == cif_id].index.values[0]\n",
    "    \n",
    "    # Use index to get values of global attributes\n",
    "    gf = [df[i][index_value] for i in global_attributes]\n",
    "\n",
    "    # Use index to get value of target attribute\n",
    "    tf = [df[target_attribute][index_value]]\n",
    "        \n",
    "    return gf,tf\n",
    "\n",
    "# an_id = dataset_df['_id'][an_index]\n",
    "an_id = \"GaSe_Ga72Se69S1_90b1b09f-acf0-46e6-8173-a2e71c884054\"\n",
    "the_gf, the_tf = get_gf_tf(dataset_df, an_id)\n",
    "print(the_gf, the_tf)"
   ]
  },
  {
   "cell_type": "markdown",
   "metadata": {},
   "source": [
    "`nodes` = node features (matrix, one row per node/atom)\n",
    "\n",
    "`edges` = connectivity (which atom/node connects to which node/atom)\n",
    "\n",
    "`edge_features` = edge features (distance between every atom/node)\n",
    "\n",
    "`y` = target (band gap)\n",
    "\n",
    "`u` = global features (formation energy, total_mag, etc.)"
   ]
  }
 ],
 "metadata": {
  "kernelspec": {
   "display_name": "MsProject",
   "language": "python",
   "name": "python3"
  },
  "language_info": {
   "codemirror_mode": {
    "name": "ipython",
    "version": 3
   },
   "file_extension": ".py",
   "mimetype": "text/x-python",
   "name": "python",
   "nbconvert_exporter": "python",
   "pygments_lexer": "ipython3",
   "version": "3.13.2"
  }
 },
 "nbformat": 4,
 "nbformat_minor": 2
}

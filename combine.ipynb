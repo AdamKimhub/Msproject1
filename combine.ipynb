{
 "cells": [
  {
   "cell_type": "code",
   "execution_count": null,
   "id": "e91cf03c",
   "metadata": {},
   "outputs": [],
   "source": [
    "import sys\n",
    "\n",
    "if \"google.colab\" in sys.modules:\n",
    "    # Mount Google Drive\n",
    "    from google.colab import drive\n",
    "    drive.mount('/content/drive')\n",
    "    dataset_path = '/content/drive/My Drive/dataset'\n",
    "\n",
    "    # Install required packages\n",
    "    !pip install pymatgen\n",
    "\n",
    "else:\n",
    "    dataset_path = 'dataset'"
   ]
  },
  {
   "cell_type": "code",
   "execution_count": null,
   "id": "7ef34d3d",
   "metadata": {},
   "outputs": [],
   "source": [
    "import pandas as pd\n",
    "from pymatgen.core import Structure\n",
    "from pathlib import Path"
   ]
  },
  {
   "cell_type": "code",
   "execution_count": null,
   "id": "92e3b3cb",
   "metadata": {},
   "outputs": [],
   "source": [
    "# List of all materials\n",
    "materials = [\"high_BN\", \"high_P\", \"high_InSe\", \"high_GaSe\", \"high_MoS2\", \"high_WSe2\", \"low_MoS2\", \"low_WSe2\"]"
   ]
  },
  {
   "cell_type": "code",
   "execution_count": null,
   "id": "9063c8a4",
   "metadata": {},
   "outputs": [],
   "source": [
    "mat_dataset = \"high_MoS2\"\n",
    "parts = mat_dataset.split(\"_\")\n",
    "the_material = parts[1]\n",
    "\n",
    "# Load the data to df\n",
    "defects_df = pd.read_csv(Path(f\"{dataset_path}/{mat_dataset}/defects.csv\"))\n",
    "description_df = pd.read_csv(Path(f\"{dataset_path}/{mat_dataset}/descriptors.csv\"))\n",
    "structure_df = pd.read_csv(Path(f\"{dataset_path}/initial_structures.csv\"))\n",
    "elements_df = pd.read_csv(Path(f\"{dataset_path}/elements.csv\"))"
   ]
  },
  {
   "cell_type": "markdown",
   "id": "9ede3aee",
   "metadata": {},
   "source": [
    "## Prepare the descriptor df"
   ]
  },
  {
   "cell_type": "code",
   "execution_count": null,
   "id": "1a4d2f2b",
   "metadata": {},
   "outputs": [],
   "source": [
    "# Change the column name of the descriptor id column\n",
    "description_df = description_df.rename(columns={\"_id\": \"descriptor_id\"})\n",
    "\n",
    "# Clearly specify the base for future stratification\n",
    "description_df[\"dataset_material\"] = mat_dataset"
   ]
  },
  {
   "cell_type": "markdown",
   "id": "5fc60015",
   "metadata": {},
   "source": [
    "## Clearly represent defects"
   ]
  },
  {
   "cell_type": "code",
   "execution_count": null,
   "id": "e5e73245",
   "metadata": {},
   "outputs": [],
   "source": [
    "# Clearly represent the defects in the description_df\n",
    "def string_to_sites(a_column):\n",
    "    # Remove unwanted chars\n",
    "    unwanted_chars = ['[',']']\n",
    "    for i in unwanted_chars:\n",
    "        a_column = a_column.replace(i,\"\")\n",
    "\n",
    "    # Create a list of the different types of defects\n",
    "    types = a_column.split(\"}\")\n",
    "    new_types = [j + \"}\" for j in types]\n",
    "\n",
    "    # Remove the additional \"{\" at the end of the list\n",
    "    del new_types[-1]\n",
    "\n",
    "    # Remove the \" ,\" before the \"{\"\n",
    "    new_new_types = [types.lstrip(\" ,\") for types in new_types]\n",
    "\n",
    "    # Defects clearly represented in \n",
    "    list_of_dicts = [eval(dict_string) for dict_string in new_new_types]\n",
    "\n",
    "    list_of_defects = []\n",
    "    for i in list_of_dicts:\n",
    "        if i[\"type\"] == \"vacancy\":\n",
    "            defect = f'vacant_{i[\"element\"]}'\n",
    "            list_of_defects.append(defect)\n",
    "\n",
    "        elif i[\"type\"] == \"substitution\":\n",
    "            defect = f'sub_{i[\"from\"]}_{i[\"to\"]}'\n",
    "            list_of_defects.append(defect)\n",
    "\n",
    "        else:\n",
    "            list_of_defects.append(\"ubnormal\")\n",
    "\n",
    "    # Create a dictionary of defect_type: number_of_sites\n",
    "    the_dict = {defect: list_of_defects.count(defect) for defect in list_of_defects}\n",
    "\n",
    "    return the_dict\n",
    "\n",
    "\n",
    "def string_to_columns(row):\n",
    "    dict_defects = string_to_sites(row[\"defects\"])\n",
    "\n",
    "    for i,j in dict_defects.items():\n",
    "        row[i] = j\n",
    "\n",
    "    row.fillna(0.0, inplace=True)\n",
    "    return row\n",
    "\n",
    "\n",
    "description_df = description_df.apply(lambda row: string_to_columns(row), axis= 1).fillna(0)"
   ]
  },
  {
   "cell_type": "markdown",
   "id": "8a12bedb",
   "metadata": {},
   "source": [
    "## Merge the `descriptor.csv` and the `defects.csv` and modify..."
   ]
  },
  {
   "cell_type": "code",
   "execution_count": null,
   "id": "cc6e3dcb",
   "metadata": {},
   "outputs": [],
   "source": [
    "# Add description to defects df\n",
    "merged_df = defects_df.merge(description_df, on=\"descriptor_id\", how=\"left\")"
   ]
  },
  {
   "cell_type": "markdown",
   "id": "d81b58ab",
   "metadata": {},
   "source": [
    "### Add formation energy"
   ]
  },
  {
   "cell_type": "code",
   "execution_count": null,
   "id": "8563182e",
   "metadata": {},
   "outputs": [],
   "source": [
    "def get_ef(row, structure_df, elements_df, base):\n",
    "    # Read value of \"energy\" and save it as Ed\n",
    "    E_defect = row[\"energy\"]\n",
    "\n",
    "    # Read value of \"energy\" in initial structure.csv for material and save as Epristine\n",
    "    E_pristine = structure_df.loc[structure_df[\"base\"] == base, \"energy\"].iloc[0]\n",
    "\n",
    "    # Get the defects in the df\n",
    "    all_columns = list(row.index)  \n",
    "    defects_columns = [col for col in all_columns if \"vacant\" in col or \"sub\" in col]\n",
    "    \n",
    "    # Get defect:site pair\n",
    "    defects_dict = {i:row[i] for i in defects_columns}\n",
    "    #total_sites = sum(defects_dict.values())\n",
    "\n",
    "    # Get list of niui(The number of atoms i * chemical potential of atom i)\n",
    "    list_niui = []\n",
    "    for x, y in defects_dict.items():\n",
    "        if \"vacant\" in x:\n",
    "            parts = x.split(\"_\")\n",
    "            vacant_element = parts[1]\n",
    "            vac_chem_pot = elements_df.loc[elements_df[\"element\"] == vacant_element, \"chemical_potential\"].iloc[0]\n",
    "            \n",
    "            niui_rem = y * (vac_chem_pot * - 1)\n",
    "            list_niui.append(niui_rem)\n",
    "        elif \"sub\" in x:\n",
    "            parts = x.split(\"_\")\n",
    "            removed_element = parts[1]\n",
    "            added_element = parts[2]\n",
    "            rem_chem_pot = elements_df.loc[elements_df[\"element\"] == removed_element, \"chemical_potential\"].iloc[0]\n",
    "            add_chem_pot = elements_df.loc[elements_df[\"element\"] == added_element, \"chemical_potential\"].iloc[0]\n",
    "\n",
    "            niui_rem = y * (rem_chem_pot * -1)\n",
    "            list_niui.append(niui_rem)\n",
    "            \n",
    "            niui_add = y * add_chem_pot\n",
    "            list_niui.append(niui_add)\n",
    "        else:\n",
    "            raise ValueError(f\"Unrecognized defect type: {x}\")\n",
    "\n",
    "    # Get the sum of niui\n",
    "    the_sum = sum(list_niui)\n",
    "    \n",
    "    # The formation energy\n",
    "    row[\"formation_energy\"] = E_defect - E_pristine - the_sum\n",
    "\n",
    "    # The formation energy per site\n",
    "    #row[\"formation_energy_per_site\"] = row[\"formation_energy\"]/total_sites\n",
    "\n",
    "    return row\n",
    "\n",
    "\n",
    "merged_df = merged_df.apply(lambda row: get_ef(row, structure_df, elements_df, the_material), axis=1)\n"
   ]
  },
  {
   "cell_type": "markdown",
   "id": "3e85ad97",
   "metadata": {},
   "source": [
    "### Add `energy_per_atom` attribute to high density datasets"
   ]
  },
  {
   "cell_type": "code",
   "execution_count": null,
   "id": "84f18fda",
   "metadata": {},
   "outputs": [],
   "source": [
    "def energy_per_atom(row, data_base):\n",
    "    cif_file = Path(f\"dataset/{data_base}/cifs/{row[\"_id\"]}.cif\")\n",
    "    structure = Structure.from_file(cif_file)\n",
    "    sites_no = structure.num_sites\n",
    "\n",
    "    row[\"energy_per_atom\"] = row[\"energy\"]/ sites_no\n",
    "\n",
    "    return row\n",
    "\n",
    "\n",
    "if \"high\" in mat_dataset: # Add to high density dataset only\n",
    "    merged_df = merged_df.apply(lambda row: energy_per_atom(row, mat_dataset), axis=1)"
   ]
  },
  {
   "cell_type": "markdown",
   "id": "be4d1fe2",
   "metadata": {},
   "source": [
    "### Add `band_gap_value`"
   ]
  },
  {
   "cell_type": "code",
   "execution_count": null,
   "id": "2999861f",
   "metadata": {},
   "outputs": [],
   "source": [
    "def remove_majmin(row):\n",
    "    row[\"homo\"] = (row[\"homo_majority\"] + row[\"homo_minority\"])/2\n",
    "    row[\"lumo\"] = (row[\"lumo_majority\"] + row[\"lumo_minority\"])/2\n",
    "    row[\"E_1\"] = (row[\"E_1_majority\"] + row[\"E_1_minority\"])/2\n",
    "\n",
    "    return row\n",
    "\n",
    "\n",
    "def get_bgv(row, structure_df, base):\n",
    "    E_1_pristine = structure_df.loc[structure_df[\"base\"] == base, \"E_1\"].iloc[0]\n",
    "    E_vbm_pristine = structure_df.loc[structure_df[\"base\"] == base, \"E_VBM\"].iloc[0]\n",
    "\n",
    "    new_norm_homo = row[\"homo\"] - row[\"E_1\"] - (E_vbm_pristine - E_1_pristine)\n",
    "    new_norm_lumo = row[\"lumo\"] - row[\"E_1\"] - (E_vbm_pristine - E_1_pristine)\n",
    "\n",
    "    row[\"band_gap_value\"] = new_norm_lumo - new_norm_homo\n",
    "\n",
    "    return row\n",
    "\n",
    "\n",
    "if \"2\" not in mat_dataset:\n",
    "    merged_df = merged_df.apply(remove_majmin, axis= 1)\n",
    "    merged_df = merged_df.apply(lambda row: get_bgv(row, structure_df, the_material), axis=1)\n",
    "\n",
    "else:\n",
    "    merged_df = merged_df.apply(lambda row: get_bgv(row,structure_df, the_material),axis=1)\n"
   ]
  },
  {
   "cell_type": "markdown",
   "id": "5616bc2a",
   "metadata": {},
   "source": [
    "### Add number of defect sites"
   ]
  },
  {
   "cell_type": "code",
   "execution_count": null,
   "id": "d2b83d96",
   "metadata": {},
   "outputs": [],
   "source": [
    "def get_defect_sites(row):\n",
    "    # Get the defects in the df\n",
    "    all_columns = list(row.index)  \n",
    "    vacant_columns = [col for col in all_columns if \"vacant\" in col]\n",
    "    sub_columns = [col for col in all_columns if \"sub\" in col]\n",
    "    \n",
    "    # Get defect:site pair\n",
    "    vacant_dict = {i:row[i] for i in vacant_columns}\n",
    "    row[\"vacancy_sites\"] = sum(vacant_dict.values())\n",
    "\n",
    "    sub_dict = {i:row[i] for i in sub_columns}\n",
    "    row[\"substitution_sites\"] = sum(sub_dict.values())\n",
    "\n",
    "    # Get total defect sites\n",
    "    row[\"defect_sites\"] = row[\"vacancy_sites\"]+row[\"substitution_sites\"]\n",
    "\n",
    "    return row\n",
    "\n",
    "\n",
    "# Replace the specific defect sites with type of defect sites\n",
    "merged_df = merged_df.apply(lambda row: get_defect_sites(row), axis=1)\n",
    "merged_df = merged_df.drop(columns=[col for col in merged_df.columns if \"vacant_\" in col or \"sub_\" in col])\n"
   ]
  },
  {
   "cell_type": "markdown",
   "id": "27ccaff8",
   "metadata": {},
   "source": [
    "# Remove unrequired columns and add others for uniformity"
   ]
  },
  {
   "cell_type": "code",
   "execution_count": null,
   "id": "d3fa1fd4",
   "metadata": {},
   "outputs": [],
   "source": [
    "if \"2\" not in mat_dataset:\n",
    "    merged_df = merged_df.drop([\"defects\", \"descriptor_id\", \"homo_majority\", \"lumo_majority\",\n",
    "                                \"homo_lumo_gap_majority\",\"E_1_majority\", \"homo_minority\", \n",
    "                                \"lumo_minority\", \"homo_lumo_gap_minority\", \"E_1_minority\",\n",
    "                                \"homo\", \"lumo\", \"description\"], axis=1)\n",
    "    \n",
    "elif \"2\" in mat_dataset and \"high\" in mat_dataset:\n",
    "    merged_df = merged_df.drop([\"defects\", \"descriptor_id\", \"homo_lumo_gap\", \n",
    "                                \"homo\", \"lumo\", \"description\"], axis=1)\n",
    "    merged_df[\"total_mag\"] = 0\n",
    "\n",
    "elif \"2\" in mat_dataset and \"low\" in mat_dataset:\n",
    "    merged_df = merged_df.drop([\"defects\", \"descriptor_id\", \"homo_lumo_gap\", \n",
    "                                \"band_gap\", \"homo\", \"lumo\", \"description\", \"pbc\"], axis=1)\n",
    "    merged_df[\"total_mag\"] = 0"
   ]
  }
 ],
 "metadata": {
  "kernelspec": {
   "display_name": "MsProject",
   "language": "python",
   "name": "python3"
  },
  "language_info": {
   "name": "python",
   "version": "3.13.2"
  }
 },
 "nbformat": 4,
 "nbformat_minor": 5
}

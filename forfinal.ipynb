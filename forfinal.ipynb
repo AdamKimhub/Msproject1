{
  "cells": [
    {
      "cell_type": "markdown",
      "id": "00c133db",
      "metadata": {
        "colab_type": "text",
        "id": "view-in-github"
      },
      "source": [
        "<a href=\"https://colab.research.google.com/github/AdamKimhub/Msproject1/blob/colab/forfinal.ipynb\" target=\"_parent\"><img src=\"https://colab.research.google.com/assets/colab-badge.svg\" alt=\"Open In Colab\"/></a>"
      ]
    },
    {
      "cell_type": "code",
      "execution_count": 3,
      "id": "1c20f759",
      "metadata": {},
      "outputs": [],
      "source": [
        "import sys\n",
        "\n",
        "if \"google.colab\" in sys.modules:\n",
        "    # Mount Google Drive\n",
        "    from google.colab import drive\n",
        "    drive.mount('/content/drive')\n",
        "    dataset_path = '/content/drive/My Drive/dataset'\n",
        "\n",
        "    # Install required packages\n",
        "    !pip install pymatgen\n",
        "\n",
        "else:\n",
        "    dataset_path = 'dataset'"
      ]
    },
    {
      "cell_type": "code",
      "execution_count": 4,
      "id": "a10ddae3",
      "metadata": {
        "id": "a10ddae3"
      },
      "outputs": [],
      "source": [
        "from pathlib import Path\n",
        "import ast\n",
        "import numpy as np\n",
        "import pandas as pd\n",
        "from pymatgen.core import Structure, PeriodicSite, DummySpecie\n",
        "from pymatgen.analysis.local_env import MinimumDistanceNN\n"
      ]
    },
    {
      "cell_type": "code",
      "execution_count": 5,
      "id": "6d47c380",
      "metadata": {},
      "outputs": [
        {
          "data": {
            "text/html": [
              "<div>\n",
              "<style scoped>\n",
              "    .dataframe tbody tr th:only-of-type {\n",
              "        vertical-align: middle;\n",
              "    }\n",
              "\n",
              "    .dataframe tbody tr th {\n",
              "        vertical-align: top;\n",
              "    }\n",
              "\n",
              "    .dataframe thead th {\n",
              "        text-align: right;\n",
              "    }\n",
              "</style>\n",
              "<table border=\"1\" class=\"dataframe\">\n",
              "  <thead>\n",
              "    <tr style=\"text-align: right;\">\n",
              "      <th></th>\n",
              "      <th>_id</th>\n",
              "      <th>descriptor_id</th>\n",
              "      <th>energy</th>\n",
              "      <th>fermi_level</th>\n",
              "      <th>homo_lumo_gap</th>\n",
              "      <th>lumo</th>\n",
              "      <th>homo</th>\n",
              "      <th>E_1</th>\n",
              "    </tr>\n",
              "  </thead>\n",
              "  <tbody>\n",
              "    <tr>\n",
              "      <th>0</th>\n",
              "      <td>MoS2_Mo63Se2S125_1de54178-46e9-4e0c-a922-6e4c9...</td>\n",
              "      <td>c2e35d6d-0314-4d37-9385-16a73a4b5b57</td>\n",
              "      <td>-1371.421478</td>\n",
              "      <td>-1.658518</td>\n",
              "      <td>0.3771</td>\n",
              "      <td>-1.0636</td>\n",
              "      <td>-1.4407</td>\n",
              "      <td>-63.1033</td>\n",
              "    </tr>\n",
              "    <tr>\n",
              "      <th>1</th>\n",
              "      <td>MoS2_Mo63W1Se2S125_b8bd7ef6-1d0f-43b9-a34c-afb...</td>\n",
              "      <td>f537f6af-ab01-4c23-8cdb-ba719fb19571</td>\n",
              "      <td>-1391.335165</td>\n",
              "      <td>-1.420464</td>\n",
              "      <td>1.1336</td>\n",
              "      <td>-0.8537</td>\n",
              "      <td>-1.9873</td>\n",
              "      <td>-62.9331</td>\n",
              "    </tr>\n",
              "    <tr>\n",
              "      <th>2</th>\n",
              "      <td>MoS2_Mo63W1Se1S125_42a338e1-df26-431d-9f5a-7c9...</td>\n",
              "      <td>4821cae7-32c3-4f2e-a821-942d6aef19e6</td>\n",
              "      <td>-1385.453746</td>\n",
              "      <td>-1.530740</td>\n",
              "      <td>1.0928</td>\n",
              "      <td>-0.9063</td>\n",
              "      <td>-1.9991</td>\n",
              "      <td>-62.9609</td>\n",
              "    </tr>\n",
              "    <tr>\n",
              "      <th>3</th>\n",
              "      <td>MoS2_Mo63W1Se2S125_a947f260-838e-4154-b08c-477...</td>\n",
              "      <td>f537f6af-ab01-4c23-8cdb-ba719fb19571</td>\n",
              "      <td>-1391.358443</td>\n",
              "      <td>-1.328388</td>\n",
              "      <td>1.1440</td>\n",
              "      <td>-0.8570</td>\n",
              "      <td>-2.0010</td>\n",
              "      <td>-62.9335</td>\n",
              "    </tr>\n",
              "    <tr>\n",
              "      <th>4</th>\n",
              "      <td>MoS2_Mo63Se2S125_ae2c4329-dd70-4174-bc11-a26ba...</td>\n",
              "      <td>c2e35d6d-0314-4d37-9385-16a73a4b5b57</td>\n",
              "      <td>-1371.905267</td>\n",
              "      <td>-1.679023</td>\n",
              "      <td>0.1618</td>\n",
              "      <td>-1.3186</td>\n",
              "      <td>-1.4804</td>\n",
              "      <td>-63.1352</td>\n",
              "    </tr>\n",
              "  </tbody>\n",
              "</table>\n",
              "</div>"
            ],
            "text/plain": [
              "                                                 _id  \\\n",
              "0  MoS2_Mo63Se2S125_1de54178-46e9-4e0c-a922-6e4c9...   \n",
              "1  MoS2_Mo63W1Se2S125_b8bd7ef6-1d0f-43b9-a34c-afb...   \n",
              "2  MoS2_Mo63W1Se1S125_42a338e1-df26-431d-9f5a-7c9...   \n",
              "3  MoS2_Mo63W1Se2S125_a947f260-838e-4154-b08c-477...   \n",
              "4  MoS2_Mo63Se2S125_ae2c4329-dd70-4174-bc11-a26ba...   \n",
              "\n",
              "                          descriptor_id       energy  fermi_level  \\\n",
              "0  c2e35d6d-0314-4d37-9385-16a73a4b5b57 -1371.421478    -1.658518   \n",
              "1  f537f6af-ab01-4c23-8cdb-ba719fb19571 -1391.335165    -1.420464   \n",
              "2  4821cae7-32c3-4f2e-a821-942d6aef19e6 -1385.453746    -1.530740   \n",
              "3  f537f6af-ab01-4c23-8cdb-ba719fb19571 -1391.358443    -1.328388   \n",
              "4  c2e35d6d-0314-4d37-9385-16a73a4b5b57 -1371.905267    -1.679023   \n",
              "\n",
              "   homo_lumo_gap    lumo    homo      E_1  \n",
              "0         0.3771 -1.0636 -1.4407 -63.1033  \n",
              "1         1.1336 -0.8537 -1.9873 -62.9331  \n",
              "2         1.0928 -0.9063 -1.9991 -62.9609  \n",
              "3         1.1440 -0.8570 -2.0010 -62.9335  \n",
              "4         0.1618 -1.3186 -1.4804 -63.1352  "
            ]
          },
          "execution_count": 5,
          "metadata": {},
          "output_type": "execute_result"
        }
      ],
      "source": [
        "# Read file\n",
        "sample_df = pd.read_csv(f\"{dataset_path}/high_MoS2/defects.csv\")\n",
        "sample_df.head()"
      ]
    },
    {
      "cell_type": "markdown",
      "id": "771044f5",
      "metadata": {},
      "source": [
        "## Get combined file"
      ]
    },
    {
      "cell_type": "code",
      "execution_count": null,
      "id": "c9d40bfe",
      "metadata": {},
      "outputs": [],
      "source": [
        "# To do this you need to handle the dataset size issue...\n"
      ]
    },
    {
      "cell_type": "markdown",
      "id": "12b48e12",
      "metadata": {},
      "source": [
        "## Data to graphs"
      ]
    },
    {
      "cell_type": "code",
      "execution_count": null,
      "id": "0c9356ba",
      "metadata": {
        "id": "0c9356ba"
      },
      "outputs": [],
      "source": [
        "# The combined csv with all the high and low datasets will be named: combined.csv\n",
        "defects_combined_path = Path(f'{dataset_path}/combined/combined.csv')\n",
        "defects_df = pd.read_csv(defects_combined_path)\n"
      ]
    },
    {
      "cell_type": "code",
      "execution_count": null,
      "id": "8513c909",
      "metadata": {},
      "outputs": [],
      "source": [
        "# Use functions in cif_to_graog to convert each row into raphs."
      ]
    },
    {
      "cell_type": "markdown",
      "id": "d0504703",
      "metadata": {},
      "source": [
        "I think the formula that the model should get is, if you have material x missing(vacancy defect) in the lattice or replaced by material y(the substitutional defect), the energy change in that site has a specific value(formation energy). When this value is combined with other formation energies at different defect sites at distances z, you get a positive or negative change to the band gap of the host materials.\n",
        "So attributes will be:\n",
        "1. Defect type(vacncy or substitutional)\n",
        "2. Atomic number change of the site.(from here you get the formation energy)\n",
        "3. Get formation energy relation with distance. "
      ]
    }
  ],
  "metadata": {
    "colab": {
      "include_colab_link": true,
      "provenance": []
    },
    "kernelspec": {
      "display_name": "MsProject",
      "language": "python",
      "name": "python3"
    },
    "language_info": {
      "codemirror_mode": {
        "name": "ipython",
        "version": 3
      },
      "file_extension": ".py",
      "mimetype": "text/x-python",
      "name": "python",
      "nbconvert_exporter": "python",
      "pygments_lexer": "ipython3",
      "version": "3.13.2"
    }
  },
  "nbformat": 4,
  "nbformat_minor": 5
}

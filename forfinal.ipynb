{
  "cells": [
    {
      "cell_type": "markdown",
      "id": "00c133db",
      "metadata": {
        "colab_type": "text",
        "id": "view-in-github"
      },
      "source": [
        "<a href=\"https://colab.research.google.com/github/AdamKimhub/Msproject1/blob/colab/forfinal.ipynb\" target=\"_parent\"><img src=\"https://colab.research.google.com/assets/colab-badge.svg\" alt=\"Open In Colab\"/></a>"
      ]
    },
    {
      "cell_type": "code",
      "execution_count": null,
      "id": "a10ddae3",
      "metadata": {
        "id": "a10ddae3"
      },
      "outputs": [],
      "source": [
        "from pathlib import Path\n",
        "import ast\n",
        "import numpy as np\n",
        "import pandas as pd\n",
        "from pymatgen.core import Structure, PeriodicSite, DummySpecie\n",
        "from pymatgen.analysis.local_env import MinimumDistanceNN\n"
      ]
    },
    {
      "cell_type": "markdown",
      "id": "771044f5",
      "metadata": {},
      "source": [
        "## Get combined file"
      ]
    },
    {
      "cell_type": "code",
      "execution_count": null,
      "id": "c9d40bfe",
      "metadata": {},
      "outputs": [],
      "source": [
        "# To do this you need to handle the dataset size issue...\n"
      ]
    },
    {
      "cell_type": "markdown",
      "id": "12b48e12",
      "metadata": {},
      "source": [
        "## Data to graphs"
      ]
    },
    {
      "cell_type": "code",
      "execution_count": null,
      "id": "0c9356ba",
      "metadata": {
        "id": "0c9356ba"
      },
      "outputs": [],
      "source": [
        "# The combined csv with all the high and low datasets will be named: combined.csv\n",
        "defects_combined_path = Path(f'dataset/combined/combined.csv')\n",
        "defects_df = pd.read_csv(defects_combined_path)\n"
      ]
    },
    {
      "cell_type": "code",
      "execution_count": null,
      "id": "8513c909",
      "metadata": {},
      "outputs": [],
      "source": [
        "# Use functions in cif_to_graog to convert each row into raphs."
      ]
    },
    {
      "cell_type": "markdown",
      "id": "d0504703",
      "metadata": {},
      "source": [
        "I think the formula that the model should get is, if you have material x missing(vacancy defect) in the lattice or replaced by material y(the substitutional defect), the energy change in that site has a specific value(formation energy). When this value is combined with other formation energies at different defect sites at distances z, you get a positive or negative change to the band gap of the host materials.\n",
        "So attributes will be:\n",
        "1. Defect type(vacncy or substitutional)\n",
        "2. Atomic number change of the site.(from here you get the formation energy)\n",
        "3. Get formation energy relation with distance. "
      ]
    }
  ],
  "metadata": {
    "colab": {
      "include_colab_link": true,
      "provenance": []
    },
    "kernelspec": {
      "display_name": "MsProject",
      "language": "python",
      "name": "python3"
    },
    "language_info": {
      "name": "python",
      "version": "3.13.2"
    }
  },
  "nbformat": 4,
  "nbformat_minor": 5
}

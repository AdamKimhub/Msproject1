{
  "cells": [
    {
      "cell_type": "markdown",
      "id": "00c133db",
      "metadata": {
        "colab_type": "text",
        "id": "view-in-github"
      },
      "source": [
        "<a href=\"https://colab.research.google.com/github/AdamKimhub/Msproject1/blob/colab/forfinal.ipynb\" target=\"_parent\"><img src=\"https://colab.research.google.com/assets/colab-badge.svg\" alt=\"Open In Colab\"/></a>"
      ]
    },
    {
      "cell_type": "code",
      "execution_count": null,
      "id": "a10ddae3",
      "metadata": {
        "id": "a10ddae3"
      },
      "outputs": [],
      "source": [
        "from pathlib import Path\n",
        "import ast\n",
        "import numpy as np\n",
        "import pandas as pd\n",
        "from pymatgen.core import Structure, PeriodicSite, DummySpecie\n",
        "from pymatgen.analysis.local_env import MinimumDistanceNN\n"
      ]
    },
    {
      "cell_type": "code",
      "execution_count": null,
      "id": "c9d40bfe",
      "metadata": {},
      "outputs": [],
      "source": [
        "# Get combined file\n",
        "# To do this you need to handle the dataset size issue...\n"
      ]
    },
    {
      "cell_type": "markdown",
      "id": "12b48e12",
      "metadata": {},
      "source": [
        "## The workflow"
      ]
    },
    {
      "cell_type": "code",
      "execution_count": null,
      "id": "0c9356ba",
      "metadata": {
        "id": "0c9356ba"
      },
      "outputs": [],
      "source": [
        "# The combined csv with all the high and low datasets will be named: combined.csv\n",
        "defects_combined_path = Path(f'dataset/combined/combined.csv')\n",
        "defects_df = pd.read_csv(defects_combined_path)\n"
      ]
    },
    {
      "cell_type": "code",
      "execution_count": null,
      "id": "6d1061d7",
      "metadata": {},
      "outputs": [],
      "source": [
        "def props_targets(data_set, columns):\n",
        "    x_props = data_set.drop(columns, axis= 1)\n",
        "    y_targets = data_set[columns]\n",
        "    return x_props, y_targets"
      ]
    },
    {
      "cell_type": "markdown",
      "id": "a29aa3ad",
      "metadata": {},
      "source": [
        "## Attributes\n",
        "Which attributes are the targets and which are the features?\n",
        "1. HOMO value\n",
        "2. LUMO value\n",
        "3. Formtion energy*\n",
        "4. Formation energy per site*\n",
        "\n",
        "The target values (formation energy, HOMO, LUMO, etc.) are what the model needs to learn to predict.\n",
        "\n",
        "If included, the model might “cheat” by directly using them instead of learning from the structure and other features."
      ]
    },
    {
      "cell_type": "code",
      "execution_count": null,
      "id": "dd4ac372",
      "metadata": {},
      "outputs": [],
      "source": []
    },
    {
      "cell_type": "markdown",
      "id": "98ef90d0",
      "metadata": {},
      "source": [
        "x = node features (matrix, one row per node)\n",
        "\n",
        "edge_index = connectivity (which node connects to which node)\n",
        "\n",
        "edge_attr = edge features (like distance)\n",
        "\n",
        "y = target (band gap)\n",
        "\n",
        "u = global features (formation energy, total_mag, etc.)"
      ]
    },
    {
      "cell_type": "markdown",
      "id": "d0504703",
      "metadata": {},
      "source": [
        "I think the formula that the model should get is, if you have material x missing(vacancy defect) in the lattice or replaced by material y(the substitutional defect), the energy change in that site has a specific value(formation energy). When this value is combined with other formation energies at different defect sites at distances z, you get a positive or negative change to the band gap of the host materials.\n",
        "So attributes will be:\n",
        "1. Defect type(vacncy or substitutional)\n",
        "2. Atomic number change of the site.(from here you get the formation energy)\n",
        "3. Get formation energy relation with distance. "
      ]
    },
    {
      "cell_type": "code",
      "execution_count": null,
      "id": "7d79d117",
      "metadata": {},
      "outputs": [],
      "source": [
        "# Seperate the target columns from the attribute columns\n",
        "target_columns = [\"formation_energy\", \"norm_homo\", \"norm_lumo\"]\n",
        "defects_df_x, defects_df_y = props_targets(defects_df,target_columns)"
      ]
    },
    {
      "cell_type": "code",
      "execution_count": null,
      "id": "dd07909e",
      "metadata": {},
      "outputs": [],
      "source": [
        "# Split the data into train, validation and test sets\n",
        "from sklearn.model_selection import train_test_split\n",
        "\n",
        "# Assume df contains structures and properties\n",
        "train_df_x, test_df_x, train_df_y, test_df_y= train_test_split(defects_df_x, defects_df_y, test_size=0.2,\n",
        "                                    stratify= defects_df_x[\"dataset_material\"],\n",
        "                                    random_state=42)\n",
        "\n",
        "train_df_x, val_df_x, train_df_y, val_df_y = train_test_split(train_df_x, train_df_y, test_size=0.15,\n",
        "                                    stratify= train_df_x[\"dataset_material\"],\n",
        "                                    random_state=42)\n",
        "\n"
      ]
    },
    {
      "cell_type": "code",
      "execution_count": null,
      "id": "351d742d",
      "metadata": {},
      "outputs": [],
      "source": [
        "\n",
        "# Considering the train_df\n",
        "# Represent the data as a graph\n",
        "for index, row in train_df_x.iterrows():\n",
        "    # Get attributes defining the structures\n",
        "    cif_id = row[\"_id\"]\n",
        "    dataset_type = row[\"dataset_material\"]\n",
        "    the_material = row[\"base\"]\n",
        "\n",
        "    # Get defective structure\n",
        "    defective_struct_path = Path(f'dataset/{dataset_type}/cifs/{cif_id}.cif')\n",
        "    defective_structure = Structure.from_file(defective_struct_path)\n",
        "\n",
        "    # Get reference structure\n",
        "    ref_file_path = Path(f'dataset/{dataset_type}/{the_material}.cif')\n",
        "    ref_unit_cell = Structure.from_file(ref_file_path)\n",
        "\n",
        "    # Get cell size\n",
        "    cell_size = list(ast.literal_eval(row[\"cell\"]))\n",
        "    reference_structure = ref_unit_cell.make_supercell(cell_size)\n",
        "\n",
        "    # get defects structure, and nodes and edges\n",
        "    defects_structure = get_defects_structure(defective_structure, reference_structure)\n",
        "    part_nodes, the_edges, the_edge_features = get_nodes_edges(defect_structure)\n",
        "\n",
        "    # Add global features to the nodes\n",
        "    global_columns = [\"energy\", \"fermi_level\", \"total_mag\", \"base\", \"vacancy_sites\",\n",
        "                    \"substituiton_sites\", \"formation_energy\", \"formation_energy_per_site\",\n",
        "                    \"energy_per_atom\", \"E_1\"]\n",
        "\n",
        "    global_vals = []\n",
        "    for n in global_columns:\n",
        "        global_vals.append(row[n])\n",
        "\n",
        "    the_nodes = []\n",
        "    for sub_list in part_nodes:\n",
        "        sub_list = sub_list + global_vals\n",
        "        the_nodes.append(sub_list)\n"
      ]
    }
  ],
  "metadata": {
    "colab": {
      "include_colab_link": true,
      "provenance": []
    },
    "kernelspec": {
      "display_name": "MsProject",
      "language": "python",
      "name": "python3"
    },
    "language_info": {
      "name": "python",
      "version": "3.13.2"
    }
  },
  "nbformat": 4,
  "nbformat_minor": 5
}

{
  "cells": [
    {
      "cell_type": "markdown",
      "id": "00c133db",
      "metadata": {
        "colab_type": "text",
        "id": "view-in-github"
      },
      "source": [
        "<a href=\"https://colab.research.google.com/github/AdamKimhub/Msproject1/blob/colab/forfinal.ipynb\" target=\"_parent\"><img src=\"https://colab.research.google.com/assets/colab-badge.svg\" alt=\"Open In Colab\"/></a>"
      ]
    },
    {
      "cell_type": "code",
      "execution_count": null,
      "id": "1c20f759",
      "metadata": {},
      "outputs": [],
      "source": [
        "import sys\n",
        "\n",
        "if \"google.colab\" in sys.modules:\n",
        "    # Mount Google Drive\n",
        "    from google.colab import drive\n",
        "    drive.mount('/content/drive')\n",
        "    dataset_path = '/content/drive/My Drive/dataset'\n",
        "\n",
        "    # Install required packages\n",
        "    !pip install pymatgen\n",
        "\n",
        "else:\n",
        "    dataset_path = 'dataset'"
      ]
    },
    {
      "cell_type": "code",
      "execution_count": null,
      "id": "a10ddae3",
      "metadata": {
        "id": "a10ddae3"
      },
      "outputs": [],
      "source": [
        "from pathlib import Path\n",
        "import ast\n",
        "import numpy as np\n",
        "import pandas as pd\n",
        "from pymatgen.core import Structure, PeriodicSite, DummySpecie\n",
        "from pymatgen.analysis.local_env import MinimumDistanceNN\n"
      ]
    },
    {
      "cell_type": "markdown",
      "id": "7aaaa3c2",
      "metadata": {},
      "source": [
        "## When  dealing with high dataset only"
      ]
    },
    {
      "cell_type": "code",
      "execution_count": null,
      "id": "c89c9596",
      "metadata": {},
      "outputs": [],
      "source": [
        "high_dataset = [\"high_BN\", \"high_GaSe\", \"high_InSe\", \"high_MoS2\", \"high_P\", \"high_WSe2\"]\n",
        "to_merge = [pd.read_csv(f\"{dataset_path}/combined/{high_data}.csv\") for high_data in high_dataset]\n",
        "\n",
        "high_df  = pd.concat(to_merge, ignore_index=True)\n",
        "\n",
        "high_copy = high_df.copy()"
      ]
    },
    {
      "cell_type": "code",
      "execution_count": null,
      "id": "d1708d37",
      "metadata": {},
      "outputs": [],
      "source": [
        "high_copy = high_copy.drop([\"_id\", \"base\", \"cell\", \"dataset_material\", \"fermi_level\", \"total_mag\"], axis =1)\n",
        "high_copy = high_copy.corr()\n",
        "high_copy"
      ]
    },
    {
      "cell_type": "markdown",
      "id": "b2a1865b",
      "metadata": {},
      "source": [
        "## When dealing with low dataset"
      ]
    },
    {
      "cell_type": "code",
      "execution_count": null,
      "id": "b7e760af",
      "metadata": {},
      "outputs": [],
      "source": [
        "low_dataset = [\"low_MoS2\", \"low_WSe2\"]\n",
        "to_merge = [pd.read_csv(f\"{dataset_path}/combined/{low_data}.csv\") for low_data in low_dataset]\n",
        "\n",
        "low_df  = pd.concat(to_merge, ignore_index=True)\n",
        "\n",
        "low_copy = low_df.copy()"
      ]
    },
    {
      "cell_type": "code",
      "execution_count": null,
      "id": "9bfc90c1",
      "metadata": {},
      "outputs": [],
      "source": [
        "low_copy = low_copy.drop([\"_id\", \"base\", \"cell\", \"dataset_material\", \"fermi_level\", \"total_mag\"], axis =1)\n",
        "low_copy = low_copy.corr()\n",
        "low_copy"
      ]
    },
    {
      "cell_type": "markdown",
      "id": "fc047800",
      "metadata": {},
      "source": [
        "## When dealing with both low and high dataset"
      ]
    },
    {
      "cell_type": "code",
      "execution_count": null,
      "id": "6d47c380",
      "metadata": {},
      "outputs": [],
      "source": [
        "# Read file\n",
        "sample_df = pd.read_csv(f\"{dataset_path}/combined/combined.csv\")"
      ]
    },
    {
      "cell_type": "code",
      "execution_count": null,
      "id": "9c2cd17d",
      "metadata": {},
      "outputs": [],
      "source": [
        "sample_copy = sample_df.copy()\n",
        "sample_copy = sample_copy.drop([\"_id\", \"base\", \"cell\", \"dataset_material\", \"fermi_level\", \"total_mag\"], axis =1)\n",
        "sample_copy = sample_copy.corr()\n",
        "sample_copy"
      ]
    },
    {
      "cell_type": "markdown",
      "id": "12b48e12",
      "metadata": {},
      "source": [
        "## Data to graphs"
      ]
    },
    {
      "cell_type": "code",
      "execution_count": null,
      "id": "3ce9677d",
      "metadata": {},
      "outputs": [],
      "source": [
        "samplex_df = pd.read_csv(f\"{dataset_path}/combined/high_GaSe.csv\")"
      ]
    },
    {
      "cell_type": "code",
      "execution_count": null,
      "id": "e8e8c7ca",
      "metadata": {},
      "outputs": [],
      "source": [
        "import to_graph\n",
        "\n",
        "def graphy(row):\n",
        "    defective_file_path = Path(f\"{dataset_path}/{row['dataset_material']}/cifs/{row['_id']}.cif\")\n",
        "    defective_structure = Structure.from_file(defective_file_path)\n",
        "\n",
        "    ref_file_path = Path(f\"{dataset_path}/{row['dataset_material']}/{row['base']}.cif\")\n",
        "    ref_unit_cell = Structure.from_file(ref_file_path)\n",
        "    the_cell = ast.literal_eval(row['cell'])\n",
        "    reference_structure = ref_unit_cell.make_supercell(the_cell)\n",
        "\n",
        "    defects_structure = to_graph.get_defects_structure(defective_structure, reference_structure)\n",
        "\n",
        "    the_nodes, the_edges, the_edge_features = to_graph.get_nodes_edges(defects_structure)\n",
        "\n",
        "    global_attributes = [\"energy\",\"fermi_level\",\"total_mag\",\"formation_energy\",\n",
        "                         \"energy_per_atom\",\"E_1\",\"vacancy_sites\",\n",
        "                         \"substitution_sites\",\"defect_sites\"]\n",
        "    \n",
        "    global_features = [row[i] for i in global_attributes]\n",
        "    \n",
        "    target_attribute = \"band_gap_value\"\n",
        "    target_features = [row[target_attribute]]\n",
        "\n",
        "    return the_nodes, the_edges, the_edge_features, global_features, target_features\n",
        "\n",
        "samplex = samplex_df.apply(lambda row: graphy(row), axis = 1)"
      ]
    },
    {
      "cell_type": "code",
      "execution_count": null,
      "id": "5e0682e3",
      "metadata": {},
      "outputs": [],
      "source": [
        "samplex[0]"
      ]
    }
  ],
  "metadata": {
    "colab": {
      "include_colab_link": true,
      "provenance": []
    },
    "kernelspec": {
      "display_name": "MsProject",
      "language": "python",
      "name": "python3"
    },
    "language_info": {
      "codemirror_mode": {
        "name": "ipython",
        "version": 3
      },
      "file_extension": ".py",
      "mimetype": "text/x-python",
      "name": "python",
      "nbconvert_exporter": "python",
      "pygments_lexer": "ipython3",
      "version": "3.13.2"
    }
  },
  "nbformat": 4,
  "nbformat_minor": 5
}

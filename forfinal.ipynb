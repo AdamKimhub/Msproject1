{
  "cells": [
    {
      "cell_type": "markdown",
      "id": "00c133db",
      "metadata": {
        "colab_type": "text",
        "id": "view-in-github"
      },
      "source": [
        "<a href=\"https://colab.research.google.com/github/AdamKimhub/Msproject1/blob/colab/forfinal.ipynb\" target=\"_parent\"><img src=\"https://colab.research.google.com/assets/colab-badge.svg\" alt=\"Open In Colab\"/></a>"
      ]
    },
    {
      "cell_type": "code",
      "execution_count": 8,
      "id": "1c20f759",
      "metadata": {},
      "outputs": [],
      "source": [
        "import sys\n",
        "\n",
        "if \"google.colab\" in sys.modules:\n",
        "    # Mount Google Drive\n",
        "    from google.colab import drive\n",
        "    drive.mount('/content/drive')\n",
        "    dataset_path = '/content/drive/My Drive/dataset'\n",
        "\n",
        "    # Install required packages\n",
        "    !pip install pymatgen\n",
        "\n",
        "else:\n",
        "    dataset_path = 'dataset'"
      ]
    },
    {
      "cell_type": "code",
      "execution_count": 9,
      "id": "a10ddae3",
      "metadata": {
        "id": "a10ddae3"
      },
      "outputs": [],
      "source": [
        "from pathlib import Path\n",
        "import ast\n",
        "import numpy as np\n",
        "import pandas as pd\n",
        "from pymatgen.core import Structure, PeriodicSite, DummySpecie\n",
        "from pymatgen.analysis.local_env import MinimumDistanceNN\n"
      ]
    },
    {
      "cell_type": "markdown",
      "id": "7aaaa3c2",
      "metadata": {},
      "source": [
        "## When  dealing with high dataset only"
      ]
    },
    {
      "cell_type": "code",
      "execution_count": null,
      "id": "c89c9596",
      "metadata": {},
      "outputs": [],
      "source": [
        "high_dataset = [\"high_BN\", \"high_GaSe\", \"high_InSe\", \"high_MoS2\", \"high_P\", \"high_WSe2\"]\n",
        "to_merge = [pd.read_csv(f\"{dataset_path}/combined/{high_data}.csv\") for high_data in high_dataset]\n",
        "\n",
        "high_df  = pd.concat(to_merge, ignore_index=True)\n",
        "\n",
        "high_copy = high_df.copy()"
      ]
    },
    {
      "cell_type": "code",
      "execution_count": null,
      "id": "d1708d37",
      "metadata": {},
      "outputs": [],
      "source": [
        "high_copy = high_copy.drop([\"_id\", \"base\", \"cell\", \"dataset_material\", \"fermi_level\", \"total_mag\"], axis =1)\n",
        "high_copy = high_copy.corr()\n",
        "high_copy"
      ]
    },
    {
      "cell_type": "markdown",
      "id": "b2a1865b",
      "metadata": {},
      "source": [
        "## When dealing with low dataset"
      ]
    },
    {
      "cell_type": "code",
      "execution_count": null,
      "id": "b7e760af",
      "metadata": {},
      "outputs": [],
      "source": [
        "low_dataset = [\"low_MoS2\", \"low_WSe2\"]\n",
        "to_merge = [pd.read_csv(f\"{dataset_path}/combined/{low_data}.csv\") for low_data in low_dataset]\n",
        "\n",
        "low_df  = pd.concat(to_merge, ignore_index=True)\n",
        "\n",
        "low_copy = low_df.copy()"
      ]
    },
    {
      "cell_type": "code",
      "execution_count": null,
      "id": "9bfc90c1",
      "metadata": {},
      "outputs": [],
      "source": [
        "low_copy = low_copy.drop([\"_id\", \"base\", \"cell\", \"dataset_material\", \"fermi_level\", \"total_mag\"], axis =1)\n",
        "low_copy = low_copy.corr()\n",
        "low_copy"
      ]
    },
    {
      "cell_type": "markdown",
      "id": "fc047800",
      "metadata": {},
      "source": [
        "## When dealing with both low and high dataset"
      ]
    },
    {
      "cell_type": "code",
      "execution_count": 3,
      "id": "6d47c380",
      "metadata": {},
      "outputs": [],
      "source": [
        "# Read file\n",
        "sample_df = pd.read_csv(f\"{dataset_path}/combined/combined.csv\")"
      ]
    },
    {
      "cell_type": "code",
      "execution_count": 4,
      "id": "9c2cd17d",
      "metadata": {},
      "outputs": [
        {
          "data": {
            "text/html": [
              "<div>\n",
              "<style scoped>\n",
              "    .dataframe tbody tr th:only-of-type {\n",
              "        vertical-align: middle;\n",
              "    }\n",
              "\n",
              "    .dataframe tbody tr th {\n",
              "        vertical-align: top;\n",
              "    }\n",
              "\n",
              "    .dataframe thead th {\n",
              "        text-align: right;\n",
              "    }\n",
              "</style>\n",
              "<table border=\"1\" class=\"dataframe\">\n",
              "  <thead>\n",
              "    <tr style=\"text-align: right;\">\n",
              "      <th></th>\n",
              "      <th>Unnamed: 0</th>\n",
              "      <th>energy</th>\n",
              "      <th>formation_energy</th>\n",
              "      <th>energy_per_atom</th>\n",
              "      <th>E_1</th>\n",
              "      <th>band_gap_value</th>\n",
              "      <th>vacancy_sites</th>\n",
              "      <th>substitution_sites</th>\n",
              "      <th>defect_sites</th>\n",
              "    </tr>\n",
              "  </thead>\n",
              "  <tbody>\n",
              "    <tr>\n",
              "      <th>Unnamed: 0</th>\n",
              "      <td>1.000000</td>\n",
              "      <td>-0.543755</td>\n",
              "      <td>-0.459145</td>\n",
              "      <td>-0.348285</td>\n",
              "      <td>0.060681</td>\n",
              "      <td>0.075284</td>\n",
              "      <td>-0.455989</td>\n",
              "      <td>-0.486571</td>\n",
              "      <td>-0.513516</td>\n",
              "    </tr>\n",
              "    <tr>\n",
              "      <th>energy</th>\n",
              "      <td>-0.543755</td>\n",
              "      <td>1.000000</td>\n",
              "      <td>0.291578</td>\n",
              "      <td>0.876757</td>\n",
              "      <td>0.498878</td>\n",
              "      <td>-0.065589</td>\n",
              "      <td>0.500522</td>\n",
              "      <td>0.481216</td>\n",
              "      <td>0.534796</td>\n",
              "    </tr>\n",
              "    <tr>\n",
              "      <th>formation_energy</th>\n",
              "      <td>-0.459145</td>\n",
              "      <td>0.291578</td>\n",
              "      <td>1.000000</td>\n",
              "      <td>-0.058278</td>\n",
              "      <td>0.188604</td>\n",
              "      <td>-0.450856</td>\n",
              "      <td>0.756871</td>\n",
              "      <td>0.524373</td>\n",
              "      <td>0.697688</td>\n",
              "    </tr>\n",
              "    <tr>\n",
              "      <th>energy_per_atom</th>\n",
              "      <td>-0.348285</td>\n",
              "      <td>0.876757</td>\n",
              "      <td>-0.058278</td>\n",
              "      <td>1.000000</td>\n",
              "      <td>0.388663</td>\n",
              "      <td>-0.027159</td>\n",
              "      <td>0.351724</td>\n",
              "      <td>0.344729</td>\n",
              "      <td>0.379397</td>\n",
              "    </tr>\n",
              "    <tr>\n",
              "      <th>E_1</th>\n",
              "      <td>0.060681</td>\n",
              "      <td>0.498878</td>\n",
              "      <td>0.188604</td>\n",
              "      <td>0.388663</td>\n",
              "      <td>1.000000</td>\n",
              "      <td>-0.427162</td>\n",
              "      <td>0.226652</td>\n",
              "      <td>0.048636</td>\n",
              "      <td>0.149743</td>\n",
              "    </tr>\n",
              "    <tr>\n",
              "      <th>band_gap_value</th>\n",
              "      <td>0.075284</td>\n",
              "      <td>-0.065589</td>\n",
              "      <td>-0.450856</td>\n",
              "      <td>-0.027159</td>\n",
              "      <td>-0.427162</td>\n",
              "      <td>1.000000</td>\n",
              "      <td>-0.470108</td>\n",
              "      <td>-0.017354</td>\n",
              "      <td>-0.264983</td>\n",
              "    </tr>\n",
              "    <tr>\n",
              "      <th>vacancy_sites</th>\n",
              "      <td>-0.455989</td>\n",
              "      <td>0.500522</td>\n",
              "      <td>0.756871</td>\n",
              "      <td>0.351724</td>\n",
              "      <td>0.226652</td>\n",
              "      <td>-0.470108</td>\n",
              "      <td>1.000000</td>\n",
              "      <td>0.684788</td>\n",
              "      <td>0.917422</td>\n",
              "    </tr>\n",
              "    <tr>\n",
              "      <th>substitution_sites</th>\n",
              "      <td>-0.486571</td>\n",
              "      <td>0.481216</td>\n",
              "      <td>0.524373</td>\n",
              "      <td>0.344729</td>\n",
              "      <td>0.048636</td>\n",
              "      <td>-0.017354</td>\n",
              "      <td>0.684788</td>\n",
              "      <td>1.000000</td>\n",
              "      <td>0.918218</td>\n",
              "    </tr>\n",
              "    <tr>\n",
              "      <th>defect_sites</th>\n",
              "      <td>-0.513516</td>\n",
              "      <td>0.534796</td>\n",
              "      <td>0.697688</td>\n",
              "      <td>0.379397</td>\n",
              "      <td>0.149743</td>\n",
              "      <td>-0.264983</td>\n",
              "      <td>0.917422</td>\n",
              "      <td>0.918218</td>\n",
              "      <td>1.000000</td>\n",
              "    </tr>\n",
              "  </tbody>\n",
              "</table>\n",
              "</div>"
            ],
            "text/plain": [
              "                    Unnamed: 0    energy  formation_energy  energy_per_atom  \\\n",
              "Unnamed: 0            1.000000 -0.543755         -0.459145        -0.348285   \n",
              "energy               -0.543755  1.000000          0.291578         0.876757   \n",
              "formation_energy     -0.459145  0.291578          1.000000        -0.058278   \n",
              "energy_per_atom      -0.348285  0.876757         -0.058278         1.000000   \n",
              "E_1                   0.060681  0.498878          0.188604         0.388663   \n",
              "band_gap_value        0.075284 -0.065589         -0.450856        -0.027159   \n",
              "vacancy_sites        -0.455989  0.500522          0.756871         0.351724   \n",
              "substitution_sites   -0.486571  0.481216          0.524373         0.344729   \n",
              "defect_sites         -0.513516  0.534796          0.697688         0.379397   \n",
              "\n",
              "                         E_1  band_gap_value  vacancy_sites  \\\n",
              "Unnamed: 0          0.060681        0.075284      -0.455989   \n",
              "energy              0.498878       -0.065589       0.500522   \n",
              "formation_energy    0.188604       -0.450856       0.756871   \n",
              "energy_per_atom     0.388663       -0.027159       0.351724   \n",
              "E_1                 1.000000       -0.427162       0.226652   \n",
              "band_gap_value     -0.427162        1.000000      -0.470108   \n",
              "vacancy_sites       0.226652       -0.470108       1.000000   \n",
              "substitution_sites  0.048636       -0.017354       0.684788   \n",
              "defect_sites        0.149743       -0.264983       0.917422   \n",
              "\n",
              "                    substitution_sites  defect_sites  \n",
              "Unnamed: 0                   -0.486571     -0.513516  \n",
              "energy                        0.481216      0.534796  \n",
              "formation_energy              0.524373      0.697688  \n",
              "energy_per_atom               0.344729      0.379397  \n",
              "E_1                           0.048636      0.149743  \n",
              "band_gap_value               -0.017354     -0.264983  \n",
              "vacancy_sites                 0.684788      0.917422  \n",
              "substitution_sites            1.000000      0.918218  \n",
              "defect_sites                  0.918218      1.000000  "
            ]
          },
          "execution_count": 4,
          "metadata": {},
          "output_type": "execute_result"
        }
      ],
      "source": [
        "sample_copy = sample_df.copy()\n",
        "sample_copy = sample_copy.drop([\"_id\", \"base\", \"cell\", \"dataset_material\", \"fermi_level\", \"total_mag\"], axis =1)\n",
        "sample_copy = sample_copy.corr()\n",
        "sample_copy"
      ]
    },
    {
      "cell_type": "markdown",
      "id": "12b48e12",
      "metadata": {},
      "source": [
        "## Data to graphs"
      ]
    },
    {
      "cell_type": "code",
      "execution_count": 10,
      "id": "3ce9677d",
      "metadata": {},
      "outputs": [],
      "source": [
        "samplex_df = pd.read_csv(f\"{dataset_path}/combined/high_GaSe.csv\")"
      ]
    },
    {
      "cell_type": "code",
      "execution_count": 11,
      "id": "e8e8c7ca",
      "metadata": {},
      "outputs": [
        {
          "name": "stderr",
          "output_type": "stream",
          "text": [
            "/home/adam/anaconda3/envs/MsProject/lib/python3.13/site-packages/pymatgen/io/cif.py:1290: UserWarning: Issues encountered while parsing CIF: 8 fractional coordinates rounded to ideal values to avoid issues with finite precision.\n",
            "  warnings.warn(\"Issues encountered while parsing CIF: \" + \"\\n\".join(self.warnings))\n"
          ]
        }
      ],
      "source": [
        "import to_graph\n",
        "\n",
        "def graphy(row):\n",
        "    defective_file_path = Path(f\"{dataset_path}/{row['dataset_material']}/cifs/{row['_id']}.cif\")\n",
        "    defective_structure = Structure.from_file(defective_file_path)\n",
        "\n",
        "    ref_file_path = Path(f\"{dataset_path}/{row['dataset_material']}/{row['base']}.cif\")\n",
        "    ref_unit_cell = Structure.from_file(ref_file_path)\n",
        "    the_cell = ast.literal_eval(row['cell'])\n",
        "    reference_structure = ref_unit_cell.make_supercell(the_cell)\n",
        "\n",
        "    defects_structure = to_graph.get_defects_structure(defective_structure, reference_structure)\n",
        "\n",
        "    # the_nodes, the_edges, the_edge_features = to_graph.get_nodes_edges(defects_structure)\n",
        "\n",
        "    # global_attributes = [\"energy\",\"fermi_level\",\"total_mag\",\"formation_energy\",\n",
        "                         # \"energy_per_atom\",\"E_1\",\"vacancy_sites\",\n",
        "                         # \"substitution_sites\",\"defect_sites\"]\n",
        "    \n",
        "    # global_features = [row[i] for i in global_attributes]\n",
        "    \n",
        "    # target_attribute = \"band_gap_value\"\n",
        "    # target_features = [row[target_attribute]]\n",
        "\n",
        "    # return the_nodes, the_edges, the_edge_features, global_features, target_features\n",
        "    return defects_structure\n",
        "\n",
        "samplex = samplex_df.apply(lambda row: graphy(row), axis = 1)"
      ]
    },
    {
      "cell_type": "code",
      "execution_count": 14,
      "id": "5e0682e3",
      "metadata": {},
      "outputs": [
        {
          "name": "stdout",
          "output_type": "stream",
          "text": [
            "Full Formula (X1 In1 S1)\n",
            "Reduced Formula: XInS\n",
            "abc   :  22.914400  22.914400  20.000000\n",
            "angles:  90.000000  90.000000 120.000012\n",
            "pbc   :       True       True       True\n",
            "Sites (3)\n",
            "  #  SP           a         b         c    an_change    new_an    original_an    substitution_defect    vacancy_defect\n",
            "---  ----  --------  --------  --------  -----------  --------  -------------  ---------------------  ----------------\n",
            "  0  In    0.111111  0.388889  0.383273           18        49             31                      1                 0\n",
            "  1  S     0.388889  0.944444  0.56548           -18        16             34                      1                 0\n",
            "  2  X0+   0.056     0.111     0.325             -34         0             34                      0                 1\n"
          ]
        }
      ],
      "source": [
        "print(samplex[0])"
      ]
    }
  ],
  "metadata": {
    "colab": {
      "include_colab_link": true,
      "provenance": []
    },
    "kernelspec": {
      "display_name": "MsProject",
      "language": "python",
      "name": "python3"
    },
    "language_info": {
      "codemirror_mode": {
        "name": "ipython",
        "version": 3
      },
      "file_extension": ".py",
      "mimetype": "text/x-python",
      "name": "python",
      "nbconvert_exporter": "python",
      "pygments_lexer": "ipython3",
      "version": "3.13.2"
    }
  },
  "nbformat": 4,
  "nbformat_minor": 5
}

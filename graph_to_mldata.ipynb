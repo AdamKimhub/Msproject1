{
  "cells": [
    {
      "cell_type": "markdown",
      "metadata": {
        "colab_type": "text",
        "id": "view-in-github"
      },
      "source": [
        "<a href=\"https://colab.research.google.com/github/AdamKimhub/Msproject1/blob/main/forfinal.ipynb\" target=\"_parent\"><img src=\"https://colab.research.google.com/assets/colab-badge.svg\" alt=\"Open In Colab\"/></a>"
      ]
    },
    {
      "cell_type": "code",
      "execution_count": 1,
      "id": "1c20f759",
      "metadata": {
        "colab": {
          "base_uri": "https://localhost:8080/"
        },
        "id": "1c20f759",
        "outputId": "55a01d9f-4c9f-4e82-ff6f-0ca497af07fc"
      },
      "outputs": [],
      "source": [
        "import sys\n",
        "\n",
        "if \"google.colab\" in sys.modules:\n",
        "    # Mount Google Drive\n",
        "    from google.colab import drive\n",
        "    drive.mount('/content/drive')\n",
        "    original_data = '/content/drive/My Drive/original_dataset'\n",
        "    final_data = '/content/drive/My Drive/final_dataset'\n",
        "\n",
        "    # Install required packages\n",
        "    !pip install pymatgen torch_geometric mp_api\n",
        "    import torch\n",
        "    from torch_geometric.data import Data\n",
        "\n",
        "else:\n",
        "    original_data = \"original_dataset\"\n",
        "    final_data = \"final_dataset\"\n",
        "\n",
        "    "
      ]
    },
    {
      "cell_type": "code",
      "execution_count": 2,
      "id": "a10ddae3",
      "metadata": {
        "id": "a10ddae3"
      },
      "outputs": [
        {
          "name": "stderr",
          "output_type": "stream",
          "text": [
            "/home/adam/anaconda3/envs/MsProject/lib/python3.13/site-packages/tqdm/auto.py:21: TqdmWarning: IProgress not found. Please update jupyter and ipywidgets. See https://ipywidgets.readthedocs.io/en/stable/user_install.html\n",
            "  from .autonotebook import tqdm as notebook_tqdm\n"
          ]
        }
      ],
      "source": [
        "import pandas as pd\n",
        "from pymatgen.core import Structure\n",
        "import to_graph\n",
        "import combine"
      ]
    },
    {
      "cell_type": "markdown",
      "id": "12b48e12",
      "metadata": {
        "id": "12b48e12"
      },
      "source": [
        "## Data to graphs"
      ]
    },
    {
      "cell_type": "code",
      "execution_count": null,
      "id": "6d47c380",
      "metadata": {
        "id": "6d47c380"
      },
      "outputs": [],
      "source": [
        "# Combine all the dataframes\n",
        "# Choose the materials you wish to train the model on.\n",
        "materials = [\"high_BN\", \"high_P\", \"high_InSe\", \"high_GaSe\", \"high_MoS2\", \"high_WSe2\", \"low_MoS2\", \"low_WSe2\"]\n",
        "all_df = [pd.read_csv(f\"{final_data}/combined/{material}.csv\") for material in materials]\n",
        "\n",
        "merged = pd.concat(all_df, ignore_index=True)\n",
        "\n",
        "# Get strata\n",
        "comb_df = combine.get_strata(merged)\n",
        "comb_df.head()"
      ]
    },
    {
      "cell_type": "code",
      "execution_count": null,
      "id": "12096f08",
      "metadata": {
        "id": "12096f08"
      },
      "outputs": [],
      "source": [
        "# Split the data\n",
        "from sklearn.model_selection import train_test_split\n",
        "\n",
        "train_set, test_set = train_test_split(comb_df, test_size=0.35, stratify=comb_df['strata'], random_state=42)\n",
        "test_set, val_set = train_test_split(test_set, test_size=0.5, random_state=42)"
      ]
    },
    {
      "cell_type": "code",
      "execution_count": null,
      "id": "3b74f231",
      "metadata": {},
      "outputs": [],
      "source": [
        "# Create graph representation of the structures\n",
        "def graphy(row):\n",
        "    defective_structure = Structure.from_file(f\"{original_data}/{row[\"dataset_material\"]}/cifs/{row[\"_id\"]}.cif\")\n",
        "    reference_structure = Structure.from_file(f\"{final_data}/ref_cifs/{row[\"dataset_material\"]}.cif\")\n",
        "\n",
        "    defects_only_structure = to_graph.get_defects_structure(defective_structure, reference_structure)\n",
        "\n",
        "    nodes, edges, edge_features, ids, ratios = to_graph.get_c_graph(defects_only_structure)\n",
        "\n",
        "    target = train_set[\"band_gap_value\"]\n",
        "\n",
        "    the_data = Data(\n",
        "        x=torch.tensor(nodes, dtype=torch.float),\n",
        "        edge_index=torch.tensor(edges, dtype=torch.long),\n",
        "        edge_attr=torch.tensor(edge_features, dtype=torch.float),\n",
        "        the_ids = torch.tensor(ids, dtype=torch.long).unsqueeze(0),\n",
        "        the_ratios = torch.tensor(ratios, dtype=torch.float).unsqueeze(0),\n",
        "        y=torch.tensor(target, dtype=torch.float).unsqueeze(0)\n",
        "    )\n",
        "    return the_data\n",
        "\n",
        "# Turn each dataset into graph data and save it\n",
        "training = train_set.apply(lambda row: graphy(row), axis = 1).tolist()\n",
        "torch.save(training, f\"{final_data}/combined/training.pt\")\n",
        "\n",
        "validating = val_set.apply(lambda row: graphy(row), axis = 1).tolist()\n",
        "torch.save(validating, f\"{final_data}/combined/validating.pt\")\n",
        "\n",
        "testing = test_set.apply(lambda row: graphy(row), axis = 1).tolist()\n",
        "torch.save(testing, f\"{final_data}/combined/testing.pt\")"
      ]
    }
  ],
  "metadata": {
    "colab": {
      "include_colab_link": true,
      "provenance": []
    },
    "kernelspec": {
      "display_name": "MsProject",
      "language": "python",
      "name": "python3"
    },
    "language_info": {
      "codemirror_mode": {
        "name": "ipython",
        "version": 3
      },
      "file_extension": ".py",
      "mimetype": "text/x-python",
      "name": "python",
      "nbconvert_exporter": "python",
      "pygments_lexer": "ipython3",
      "version": "3.13.2"
    }
  },
  "nbformat": 4,
  "nbformat_minor": 5
}

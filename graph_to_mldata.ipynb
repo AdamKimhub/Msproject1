{
  "cells": [
    {
      "cell_type": "markdown",
      "metadata": {
        "colab_type": "text",
        "id": "view-in-github"
      },
      "source": [
        "<a href=\"https://colab.research.google.com/github/AdamKimhub/Msproject1/blob/main/forfinal.ipynb\" target=\"_parent\"><img src=\"https://colab.research.google.com/assets/colab-badge.svg\" alt=\"Open In Colab\"/></a>"
      ]
    },
    {
      "cell_type": "code",
      "execution_count": 1,
      "id": "1c20f759",
      "metadata": {
        "colab": {
          "base_uri": "https://localhost:8080/"
        },
        "id": "1c20f759",
        "outputId": "55a01d9f-4c9f-4e82-ff6f-0ca497af07fc"
      },
      "outputs": [
        {
          "name": "stdout",
          "output_type": "stream",
          "text": [
            "Drive already mounted at /content/drive; to attempt to forcibly remount, call drive.mount(\"/content/drive\", force_remount=True).\n",
            "Requirement already satisfied: pymatgen in /usr/local/lib/python3.11/dist-packages (2025.6.14)\n",
            "Requirement already satisfied: torch_geometric in /usr/local/lib/python3.11/dist-packages (2.6.1)\n",
            "Requirement already satisfied: mp_api in /usr/local/lib/python3.11/dist-packages (0.45.7)\n",
            "Requirement already satisfied: bibtexparser>=1.4.0 in /usr/local/lib/python3.11/dist-packages (from pymatgen) (1.4.3)\n",
            "Requirement already satisfied: joblib>=1 in /usr/local/lib/python3.11/dist-packages (from pymatgen) (1.5.1)\n",
            "Requirement already satisfied: matplotlib>=3.8 in /usr/local/lib/python3.11/dist-packages (from pymatgen) (3.10.0)\n",
            "Requirement already satisfied: monty>=2025.1.9 in /usr/local/lib/python3.11/dist-packages (from pymatgen) (2025.3.3)\n",
            "Requirement already satisfied: networkx>=2.7 in /usr/local/lib/python3.11/dist-packages (from pymatgen) (3.5)\n",
            "Requirement already satisfied: numpy<3,>=1.25.0 in /usr/local/lib/python3.11/dist-packages (from pymatgen) (2.0.2)\n",
            "Requirement already satisfied: orjson<4,>=3.10 in /usr/local/lib/python3.11/dist-packages (from pymatgen) (3.10.18)\n",
            "Requirement already satisfied: palettable>=3.3.3 in /usr/local/lib/python3.11/dist-packages (from pymatgen) (3.3.3)\n",
            "Requirement already satisfied: pandas>=2 in /usr/local/lib/python3.11/dist-packages (from pymatgen) (2.2.2)\n",
            "Requirement already satisfied: plotly>=5.0.0 in /usr/local/lib/python3.11/dist-packages (from pymatgen) (5.24.1)\n",
            "Requirement already satisfied: requests>=2.32 in /usr/local/lib/python3.11/dist-packages (from pymatgen) (2.32.3)\n",
            "Requirement already satisfied: ruamel.yaml>=0.17.0 in /usr/local/lib/python3.11/dist-packages (from pymatgen) (0.18.14)\n",
            "Requirement already satisfied: scipy>=1.13.0 in /usr/local/lib/python3.11/dist-packages (from pymatgen) (1.15.3)\n",
            "Requirement already satisfied: spglib>=2.5 in /usr/local/lib/python3.11/dist-packages (from pymatgen) (2.6.0)\n",
            "Requirement already satisfied: sympy>=1.3 in /usr/local/lib/python3.11/dist-packages (from pymatgen) (1.13.1)\n",
            "Requirement already satisfied: tabulate>=0.9 in /usr/local/lib/python3.11/dist-packages (from pymatgen) (0.9.0)\n",
            "Requirement already satisfied: tqdm>=4.60 in /usr/local/lib/python3.11/dist-packages (from pymatgen) (4.67.1)\n",
            "Requirement already satisfied: uncertainties>=3.1.4 in /usr/local/lib/python3.11/dist-packages (from pymatgen) (3.2.3)\n",
            "Requirement already satisfied: aiohttp in /usr/local/lib/python3.11/dist-packages (from torch_geometric) (3.11.15)\n",
            "Requirement already satisfied: fsspec in /usr/local/lib/python3.11/dist-packages (from torch_geometric) (2025.3.2)\n",
            "Requirement already satisfied: jinja2 in /usr/local/lib/python3.11/dist-packages (from torch_geometric) (3.1.6)\n",
            "Requirement already satisfied: psutil>=5.8.0 in /usr/local/lib/python3.11/dist-packages (from torch_geometric) (5.9.5)\n",
            "Requirement already satisfied: pyparsing in /usr/local/lib/python3.11/dist-packages (from torch_geometric) (3.2.3)\n",
            "Requirement already satisfied: setuptools in /usr/local/lib/python3.11/dist-packages (from mp_api) (75.2.0)\n",
            "Requirement already satisfied: msgpack in /usr/local/lib/python3.11/dist-packages (from mp_api) (1.1.0)\n",
            "Requirement already satisfied: maggma>=0.57.1 in /usr/local/lib/python3.11/dist-packages (from mp_api) (0.71.5)\n",
            "Requirement already satisfied: typing-extensions>=3.7.4.1 in /usr/local/lib/python3.11/dist-packages (from mp_api) (4.14.0)\n",
            "Requirement already satisfied: emmet-core>=0.84.3rc6 in /usr/local/lib/python3.11/dist-packages (from mp_api) (0.84.8)\n",
            "Requirement already satisfied: smart_open in /usr/local/lib/python3.11/dist-packages (from mp_api) (7.1.0)\n",
            "Requirement already satisfied: pydantic>=2.0 in /usr/local/lib/python3.11/dist-packages (from emmet-core>=0.84.3rc6->mp_api) (2.11.5)\n",
            "Requirement already satisfied: pydantic-settings>=2.0 in /usr/local/lib/python3.11/dist-packages (from emmet-core>=0.84.3rc6->mp_api) (2.9.1)\n",
            "Requirement already satisfied: pybtex~=0.24 in /usr/local/lib/python3.11/dist-packages (from emmet-core>=0.84.3rc6->mp_api) (0.24.0)\n",
            "Requirement already satisfied: pymongo<4.11,>=4.2.0 in /usr/local/lib/python3.11/dist-packages (from maggma>=0.57.1->mp_api) (4.10.1)\n",
            "Requirement already satisfied: mongomock>=3.10.0 in /usr/local/lib/python3.11/dist-packages (from maggma>=0.57.1->mp_api) (4.3.0)\n",
            "Requirement already satisfied: pydash>=4.1.0 in /usr/local/lib/python3.11/dist-packages (from maggma>=0.57.1->mp_api) (8.0.5)\n",
            "Requirement already satisfied: jsonschema>=3.1.1 in /usr/local/lib/python3.11/dist-packages (from maggma>=0.57.1->mp_api) (4.24.0)\n",
            "Requirement already satisfied: jsonlines>=4.0.0 in /usr/local/lib/python3.11/dist-packages (from maggma>=0.57.1->mp_api) (4.0.0)\n",
            "Requirement already satisfied: aioitertools>=0.5.1 in /usr/local/lib/python3.11/dist-packages (from maggma>=0.57.1->mp_api) (0.12.0)\n",
            "Requirement already satisfied: pyzmq>=25.1.1 in /usr/local/lib/python3.11/dist-packages (from maggma>=0.57.1->mp_api) (27.0.0)\n",
            "Requirement already satisfied: dnspython>=1.16.0 in /usr/local/lib/python3.11/dist-packages (from maggma>=0.57.1->mp_api) (2.7.0)\n",
            "Requirement already satisfied: sshtunnel>=0.1.5 in /usr/local/lib/python3.11/dist-packages (from maggma>=0.57.1->mp_api) (0.4.0)\n",
            "Requirement already satisfied: boto3>=1.20.41 in /usr/local/lib/python3.11/dist-packages (from maggma>=0.57.1->mp_api) (1.38.36)\n",
            "Requirement already satisfied: python-dateutil>=2.8.2 in /usr/local/lib/python3.11/dist-packages (from maggma>=0.57.1->mp_api) (2.9.0.post0)\n",
            "Requirement already satisfied: contourpy>=1.0.1 in /usr/local/lib/python3.11/dist-packages (from matplotlib>=3.8->pymatgen) (1.3.2)\n",
            "Requirement already satisfied: cycler>=0.10 in /usr/local/lib/python3.11/dist-packages (from matplotlib>=3.8->pymatgen) (0.12.1)\n",
            "Requirement already satisfied: fonttools>=4.22.0 in /usr/local/lib/python3.11/dist-packages (from matplotlib>=3.8->pymatgen) (4.58.1)\n",
            "Requirement already satisfied: kiwisolver>=1.3.1 in /usr/local/lib/python3.11/dist-packages (from matplotlib>=3.8->pymatgen) (1.4.8)\n",
            "Requirement already satisfied: packaging>=20.0 in /usr/local/lib/python3.11/dist-packages (from matplotlib>=3.8->pymatgen) (24.2)\n",
            "Requirement already satisfied: pillow>=8 in /usr/local/lib/python3.11/dist-packages (from matplotlib>=3.8->pymatgen) (11.2.1)\n",
            "Requirement already satisfied: pytz>=2020.1 in /usr/local/lib/python3.11/dist-packages (from pandas>=2->pymatgen) (2025.2)\n",
            "Requirement already satisfied: tzdata>=2022.7 in /usr/local/lib/python3.11/dist-packages (from pandas>=2->pymatgen) (2025.2)\n",
            "Requirement already satisfied: tenacity>=6.2.0 in /usr/local/lib/python3.11/dist-packages (from plotly>=5.0.0->pymatgen) (9.1.2)\n",
            "Requirement already satisfied: charset-normalizer<4,>=2 in /usr/local/lib/python3.11/dist-packages (from requests>=2.32->pymatgen) (3.4.2)\n",
            "Requirement already satisfied: idna<4,>=2.5 in /usr/local/lib/python3.11/dist-packages (from requests>=2.32->pymatgen) (3.10)\n",
            "Requirement already satisfied: urllib3<3,>=1.21.1 in /usr/local/lib/python3.11/dist-packages (from requests>=2.32->pymatgen) (2.4.0)\n",
            "Requirement already satisfied: certifi>=2017.4.17 in /usr/local/lib/python3.11/dist-packages (from requests>=2.32->pymatgen) (2025.4.26)\n",
            "Requirement already satisfied: ruamel.yaml.clib>=0.2.7 in /usr/local/lib/python3.11/dist-packages (from ruamel.yaml>=0.17.0->pymatgen) (0.2.12)\n",
            "Requirement already satisfied: mpmath<1.4,>=1.1.0 in /usr/local/lib/python3.11/dist-packages (from sympy>=1.3->pymatgen) (1.3.0)\n",
            "Requirement already satisfied: aiohappyeyeballs>=2.3.0 in /usr/local/lib/python3.11/dist-packages (from aiohttp->torch_geometric) (2.6.1)\n",
            "Requirement already satisfied: aiosignal>=1.1.2 in /usr/local/lib/python3.11/dist-packages (from aiohttp->torch_geometric) (1.3.2)\n",
            "Requirement already satisfied: attrs>=17.3.0 in /usr/local/lib/python3.11/dist-packages (from aiohttp->torch_geometric) (25.3.0)\n",
            "Requirement already satisfied: frozenlist>=1.1.1 in /usr/local/lib/python3.11/dist-packages (from aiohttp->torch_geometric) (1.6.0)\n",
            "Requirement already satisfied: multidict<7.0,>=4.5 in /usr/local/lib/python3.11/dist-packages (from aiohttp->torch_geometric) (6.4.4)\n",
            "Requirement already satisfied: propcache>=0.2.0 in /usr/local/lib/python3.11/dist-packages (from aiohttp->torch_geometric) (0.3.1)\n",
            "Requirement already satisfied: yarl<2.0,>=1.17.0 in /usr/local/lib/python3.11/dist-packages (from aiohttp->torch_geometric) (1.20.0)\n",
            "Requirement already satisfied: MarkupSafe>=2.0 in /usr/local/lib/python3.11/dist-packages (from jinja2->torch_geometric) (3.0.2)\n",
            "Requirement already satisfied: wrapt in /usr/local/lib/python3.11/dist-packages (from smart_open->mp_api) (1.17.2)\n",
            "Requirement already satisfied: botocore<1.39.0,>=1.38.36 in /usr/local/lib/python3.11/dist-packages (from boto3>=1.20.41->maggma>=0.57.1->mp_api) (1.38.36)\n",
            "Requirement already satisfied: jmespath<2.0.0,>=0.7.1 in /usr/local/lib/python3.11/dist-packages (from boto3>=1.20.41->maggma>=0.57.1->mp_api) (1.0.1)\n",
            "Requirement already satisfied: s3transfer<0.14.0,>=0.13.0 in /usr/local/lib/python3.11/dist-packages (from boto3>=1.20.41->maggma>=0.57.1->mp_api) (0.13.0)\n",
            "Requirement already satisfied: jsonschema-specifications>=2023.03.6 in /usr/local/lib/python3.11/dist-packages (from jsonschema>=3.1.1->maggma>=0.57.1->mp_api) (2025.4.1)\n",
            "Requirement already satisfied: referencing>=0.28.4 in /usr/local/lib/python3.11/dist-packages (from jsonschema>=3.1.1->maggma>=0.57.1->mp_api) (0.36.2)\n",
            "Requirement already satisfied: rpds-py>=0.7.1 in /usr/local/lib/python3.11/dist-packages (from jsonschema>=3.1.1->maggma>=0.57.1->mp_api) (0.25.1)\n",
            "Requirement already satisfied: sentinels in /usr/local/lib/python3.11/dist-packages (from mongomock>=3.10.0->maggma>=0.57.1->mp_api) (1.0.0)\n",
            "Requirement already satisfied: PyYAML>=3.01 in /usr/local/lib/python3.11/dist-packages (from pybtex~=0.24->emmet-core>=0.84.3rc6->mp_api) (6.0.2)\n",
            "Requirement already satisfied: latexcodec>=1.0.4 in /usr/local/lib/python3.11/dist-packages (from pybtex~=0.24->emmet-core>=0.84.3rc6->mp_api) (3.0.0)\n",
            "Requirement already satisfied: six in /usr/local/lib/python3.11/dist-packages (from pybtex~=0.24->emmet-core>=0.84.3rc6->mp_api) (1.17.0)\n",
            "Requirement already satisfied: annotated-types>=0.6.0 in /usr/local/lib/python3.11/dist-packages (from pydantic>=2.0->emmet-core>=0.84.3rc6->mp_api) (0.7.0)\n",
            "Requirement already satisfied: pydantic-core==2.33.2 in /usr/local/lib/python3.11/dist-packages (from pydantic>=2.0->emmet-core>=0.84.3rc6->mp_api) (2.33.2)\n",
            "Requirement already satisfied: typing-inspection>=0.4.0 in /usr/local/lib/python3.11/dist-packages (from pydantic>=2.0->emmet-core>=0.84.3rc6->mp_api) (0.4.1)\n",
            "Requirement already satisfied: python-dotenv>=0.21.0 in /usr/local/lib/python3.11/dist-packages (from pydantic-settings>=2.0->emmet-core>=0.84.3rc6->mp_api) (1.1.0)\n",
            "Requirement already satisfied: paramiko>=2.7.2 in /usr/local/lib/python3.11/dist-packages (from sshtunnel>=0.1.5->maggma>=0.57.1->mp_api) (3.5.1)\n",
            "Requirement already satisfied: bcrypt>=3.2 in /usr/local/lib/python3.11/dist-packages (from paramiko>=2.7.2->sshtunnel>=0.1.5->maggma>=0.57.1->mp_api) (4.3.0)\n",
            "Requirement already satisfied: cryptography>=3.3 in /usr/local/lib/python3.11/dist-packages (from paramiko>=2.7.2->sshtunnel>=0.1.5->maggma>=0.57.1->mp_api) (43.0.3)\n",
            "Requirement already satisfied: pynacl>=1.5 in /usr/local/lib/python3.11/dist-packages (from paramiko>=2.7.2->sshtunnel>=0.1.5->maggma>=0.57.1->mp_api) (1.5.0)\n",
            "Requirement already satisfied: cffi>=1.12 in /usr/local/lib/python3.11/dist-packages (from cryptography>=3.3->paramiko>=2.7.2->sshtunnel>=0.1.5->maggma>=0.57.1->mp_api) (1.17.1)\n",
            "Requirement already satisfied: pycparser in /usr/local/lib/python3.11/dist-packages (from cffi>=1.12->cryptography>=3.3->paramiko>=2.7.2->sshtunnel>=0.1.5->maggma>=0.57.1->mp_api) (2.22)\n"
          ]
        }
      ],
      "source": [
        "import sys\n",
        "\n",
        "if \"google.colab\" in sys.modules:\n",
        "    # Mount Google Drive\n",
        "    from google.colab import drive\n",
        "    drive.mount('/content/drive')\n",
        "    dataset_path = '/content/drive/My Drive/dataset'\n",
        "\n",
        "    # Install required packages\n",
        "    !pip install pymatgen torch_geometric mp_api\n",
        "    import torch\n",
        "    from torch_geometric.data import Data\n",
        "\n",
        "else:\n",
        "    dataset_path = 'dataset'"
      ]
    },
    {
      "cell_type": "code",
      "execution_count": null,
      "id": "a10ddae3",
      "metadata": {
        "id": "a10ddae3"
      },
      "outputs": [],
      "source": [
        "import pandas as pd\n",
        "from pymatgen.core import Structure\n",
        "import to_graph"
      ]
    },
    {
      "cell_type": "markdown",
      "id": "12b48e12",
      "metadata": {
        "id": "12b48e12"
      },
      "source": [
        "## Data to graphs"
      ]
    },
    {
      "cell_type": "code",
      "execution_count": null,
      "id": "6d47c380",
      "metadata": {
        "id": "6d47c380"
      },
      "outputs": [],
      "source": [
        "# Load the dataset\n",
        "comb_df = pd.read_csv(f\"{dataset_path}/combined/combined.csv\")"
      ]
    },
    {
      "cell_type": "code",
      "execution_count": null,
      "id": "12096f08",
      "metadata": {
        "id": "12096f08"
      },
      "outputs": [],
      "source": [
        "# Split the data\n",
        "from sklearn.model_selection import train_test_split\n",
        "\n",
        "train_set, test_set = train_test_split(comb_df, test_size=0.35, stratify=comb_df['strata'], random_state=42)\n",
        "test_set, val_set = train_test_split(test_set, test_size=0.5, random_state=42)"
      ]
    },
    {
      "cell_type": "code",
      "execution_count": null,
      "id": "3b74f231",
      "metadata": {},
      "outputs": [],
      "source": [
        "# Create graph representation of the structures\n",
        "def graphy(row):\n",
        "    defective_structure = Structure.from_file(f\"dataset/{row[\"dataset_material\"]}/cifs/{row[\"_id\"]}.cif\")\n",
        "    reference_structure = Structure.from_file(f\"dataset/ref_cifs/{row[\"dataset_material\"]}.cif\")\n",
        "\n",
        "    defects_only_structure = to_graph.get_defects_structure(defective_structure, reference_structure)\n",
        "\n",
        "    nodes, edges, edge_features, ids, ratios = to_graph.get_c_graph(defects_only_structure)\n",
        "\n",
        "    target = train_set[\"band_gap_value\"]\n",
        "\n",
        "    the_data = Data(\n",
        "        x=torch.tensor(nodes, dtype=torch.float),\n",
        "        edge_index=torch.tensor(edges, dtype=torch.long),\n",
        "        edge_attr=torch.tensor(edge_features, dtype=torch.float),\n",
        "        the_ids = torch.tensor(ids, dtype=torch.long).unsqueeze(0),\n",
        "        the_ratios = torch.tensor(ratios, dtype=torch.float).unsqueeze(0),\n",
        "        y=torch.tensor(target, dtype=torch.float).unsqueeze(0)\n",
        "    )\n",
        "    return the_data\n",
        "\n",
        "# Turn each dataset into graph data and save it\n",
        "training = train_set.apply(lambda row: graphy(row), axis = 1).tolist()\n",
        "torch.save(training, f\"{dataset_path}/combined/training.pt\")\n",
        "\n",
        "validating = val_set.apply(lambda row: graphy(row), axis = 1).tolist()\n",
        "torch.save(validating, f\"{dataset_path}/combined/validating.pt\")\n",
        "\n",
        "testing = test_set.apply(lambda row: graphy(row), axis = 1).tolist()\n",
        "torch.save(testing, f\"{dataset_path}/combined/testing.pt\")"
      ]
    }
  ],
  "metadata": {
    "colab": {
      "include_colab_link": true,
      "provenance": []
    },
    "kernelspec": {
      "display_name": "MsProject",
      "language": "python",
      "name": "python3"
    },
    "language_info": {
      "codemirror_mode": {
        "name": "ipython",
        "version": 3
      },
      "file_extension": ".py",
      "mimetype": "text/x-python",
      "name": "python",
      "nbconvert_exporter": "python",
      "pygments_lexer": "ipython3",
      "version": "3.13.2"
    }
  },
  "nbformat": 4,
  "nbformat_minor": 5
}

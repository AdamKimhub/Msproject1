{
  "cells": [
    {
      "cell_type": "markdown",
      "metadata": {
        "id": "view-in-github",
        "colab_type": "text"
      },
      "source": [
        "<a href=\"https://colab.research.google.com/github/AdamKimhub/Msproject1/blob/main/model_build.ipynb\" target=\"_parent\"><img src=\"https://colab.research.google.com/assets/colab-badge.svg\" alt=\"Open In Colab\"/></a>"
      ]
    },
    {
      "cell_type": "code",
      "execution_count": 1,
      "id": "2507cdbf",
      "metadata": {
        "colab": {
          "base_uri": "https://localhost:8080/"
        },
        "id": "2507cdbf",
        "outputId": "7e2dfe14-981a-41d7-906f-231ff5a40efc"
      },
      "outputs": [
        {
          "output_type": "stream",
          "name": "stdout",
          "text": [
            "Drive already mounted at /content/drive; to attempt to forcibly remount, call drive.mount(\"/content/drive\", force_remount=True).\n",
            "Requirement already satisfied: torch_geometric in /usr/local/lib/python3.11/dist-packages (2.6.1)\n",
            "Requirement already satisfied: aiohttp in /usr/local/lib/python3.11/dist-packages (from torch_geometric) (3.11.15)\n",
            "Requirement already satisfied: fsspec in /usr/local/lib/python3.11/dist-packages (from torch_geometric) (2025.3.2)\n",
            "Requirement already satisfied: jinja2 in /usr/local/lib/python3.11/dist-packages (from torch_geometric) (3.1.6)\n",
            "Requirement already satisfied: numpy in /usr/local/lib/python3.11/dist-packages (from torch_geometric) (2.0.2)\n",
            "Requirement already satisfied: psutil>=5.8.0 in /usr/local/lib/python3.11/dist-packages (from torch_geometric) (5.9.5)\n",
            "Requirement already satisfied: pyparsing in /usr/local/lib/python3.11/dist-packages (from torch_geometric) (3.2.3)\n",
            "Requirement already satisfied: requests in /usr/local/lib/python3.11/dist-packages (from torch_geometric) (2.32.3)\n",
            "Requirement already satisfied: tqdm in /usr/local/lib/python3.11/dist-packages (from torch_geometric) (4.67.1)\n",
            "Requirement already satisfied: aiohappyeyeballs>=2.3.0 in /usr/local/lib/python3.11/dist-packages (from aiohttp->torch_geometric) (2.6.1)\n",
            "Requirement already satisfied: aiosignal>=1.1.2 in /usr/local/lib/python3.11/dist-packages (from aiohttp->torch_geometric) (1.3.2)\n",
            "Requirement already satisfied: attrs>=17.3.0 in /usr/local/lib/python3.11/dist-packages (from aiohttp->torch_geometric) (25.3.0)\n",
            "Requirement already satisfied: frozenlist>=1.1.1 in /usr/local/lib/python3.11/dist-packages (from aiohttp->torch_geometric) (1.6.0)\n",
            "Requirement already satisfied: multidict<7.0,>=4.5 in /usr/local/lib/python3.11/dist-packages (from aiohttp->torch_geometric) (6.4.4)\n",
            "Requirement already satisfied: propcache>=0.2.0 in /usr/local/lib/python3.11/dist-packages (from aiohttp->torch_geometric) (0.3.1)\n",
            "Requirement already satisfied: yarl<2.0,>=1.17.0 in /usr/local/lib/python3.11/dist-packages (from aiohttp->torch_geometric) (1.20.0)\n",
            "Requirement already satisfied: MarkupSafe>=2.0 in /usr/local/lib/python3.11/dist-packages (from jinja2->torch_geometric) (3.0.2)\n",
            "Requirement already satisfied: charset-normalizer<4,>=2 in /usr/local/lib/python3.11/dist-packages (from requests->torch_geometric) (3.4.2)\n",
            "Requirement already satisfied: idna<4,>=2.5 in /usr/local/lib/python3.11/dist-packages (from requests->torch_geometric) (3.10)\n",
            "Requirement already satisfied: urllib3<3,>=1.21.1 in /usr/local/lib/python3.11/dist-packages (from requests->torch_geometric) (2.4.0)\n",
            "Requirement already satisfied: certifi>=2017.4.17 in /usr/local/lib/python3.11/dist-packages (from requests->torch_geometric) (2025.4.26)\n"
          ]
        }
      ],
      "source": [
        "import sys\n",
        "\n",
        "if \"google.colab\" in sys.modules:\n",
        "    # Mount Google Drive\n",
        "    from google.colab import drive\n",
        "    drive.mount('/content/drive')\n",
        "    dataset_path = '/content/drive/My Drive/dataset'\n",
        "\n",
        "    # Install required packages\n",
        "    !pip install torch_geometric\n",
        "    import torch\n",
        "    from torch_geometric.data import Data, DataLoader\n",
        "\n",
        "else:\n",
        "    dataset_path = 'dataset'"
      ]
    },
    {
      "cell_type": "code",
      "source": [
        "import numpy as np"
      ],
      "metadata": {
        "id": "7Req-6GBc6g4"
      },
      "id": "7Req-6GBc6g4",
      "execution_count": 2,
      "outputs": []
    },
    {
      "cell_type": "markdown",
      "id": "c5ad1311",
      "metadata": {
        "id": "c5ad1311"
      },
      "source": [
        "## The data"
      ]
    },
    {
      "cell_type": "code",
      "execution_count": 3,
      "id": "7abbbf3e",
      "metadata": {
        "id": "7abbbf3e"
      },
      "outputs": [],
      "source": [
        "# Load the data\n",
        "# Training set\n",
        "train_graphs = torch.load(f\"{dataset_path}/combined/training.pt\", weights_only=False)\n",
        "\n",
        "# Validating set\n",
        "val_graphs = torch.load(f\"{dataset_path}/combined/validating.pt\", weights_only=False)\n",
        "\n",
        "# Testing set\n",
        "test_graphs = torch.load(f\"{dataset_path}/combined/testing.pt\", weights_only=False)"
      ]
    },
    {
      "cell_type": "code",
      "execution_count": 4,
      "id": "f635b07c",
      "metadata": {
        "id": "f635b07c"
      },
      "outputs": [],
      "source": [
        "# Create data loaders\n",
        "from torch_geometric.loader import DataLoader\n",
        "\n",
        "train_loader = DataLoader(train_graphs, batch_size=32, shuffle=True)\n",
        "val_loader = DataLoader(val_graphs, batch_size=32, shuffle=False)\n",
        "test_loader = DataLoader(test_graphs, batch_size=32, shuffle=False)"
      ]
    },
    {
      "cell_type": "markdown",
      "id": "0f31e77f",
      "metadata": {
        "id": "0f31e77f"
      },
      "source": [
        "## Build model"
      ]
    },
    {
      "cell_type": "markdown",
      "id": "f3f28737",
      "metadata": {
        "id": "f3f28737"
      },
      "source": [
        "### import dependancies"
      ]
    },
    {
      "cell_type": "code",
      "execution_count": 5,
      "id": "698c87d3",
      "metadata": {
        "id": "698c87d3"
      },
      "outputs": [],
      "source": [
        "# import dependancies\n",
        "import torch.nn as nn\n",
        "import torch.nn.functional as F\n",
        "from torch_geometric.nn import GCNConv, global_mean_pool, NNConv"
      ]
    },
    {
      "cell_type": "code",
      "execution_count": 6,
      "id": "4AKvTT3DMurV",
      "metadata": {
        "id": "4AKvTT3DMurV"
      },
      "outputs": [],
      "source": [
        "class GNNModel(nn.Module):\n",
        "    def __init__(self, node_dim, edge_dim, hidden_dim):\n",
        "        super().__init__()\n",
        "        # Edge NN maps edge_attr to weight matrix\n",
        "        self.edge_nn = nn.Sequential(\n",
        "            nn.Linear(edge_dim, 32),\n",
        "            nn.ReLU(),\n",
        "            nn.Linear(32, node_dim * hidden_dim)\n",
        "        )\n",
        "\n",
        "        self.conv1 = NNConv(node_dim, hidden_dim, self.edge_nn, aggr='mean')\n",
        "        self.fc1 = nn.Linear(hidden_dim, hidden_dim)\n",
        "        self.fc2 = nn.Linear(hidden_dim, 1)  # Regression output\n",
        "\n",
        "    def forward(self, x, edge_index, edge_attr, batch):\n",
        "        x = F.relu(self.conv1(x, edge_index, edge_attr))\n",
        "        x = global_mean_pool(x, batch)\n",
        "        x = F.relu(self.fc1(x))\n",
        "        x = self.fc2(x)\n",
        "        return x\n",
        "\n",
        "\n",
        "# Instantiate model, optimizer, loss\n",
        "# run the model in the gpu if the device has one\n",
        "device = torch.device('cuda' if torch.cuda.is_available() else 'cpu')\n",
        "\n",
        "# Instance of the model\n",
        "model = GNNModel(node_dim=8, edge_dim=3, hidden_dim=32).to(device) # Without global features\n",
        "# model = GNNModel(node_dim=8, edge_dim=3, global_dim=10, hidden_dim=32).to(device) # with global features\n",
        "\n",
        "\n",
        "# optimizer\n",
        "optimizer = torch.optim.Adam(model.parameters(), lr=0.01)\n",
        "\n",
        "# Loss function\n",
        "loss_fn = nn.MSELoss()"
      ]
    },
    {
      "cell_type": "code",
      "execution_count": 7,
      "id": "6588fcf2",
      "metadata": {
        "id": "6588fcf2",
        "colab": {
          "base_uri": "https://localhost:8080/"
        },
        "outputId": "86aa0144-49b6-4008-cde7-a6bc947f5870"
      },
      "outputs": [
        {
          "output_type": "stream",
          "name": "stdout",
          "text": [
            "Epoch 001, Train Loss: 2.9267, Val Loss: 0.0403\n",
            "Epoch 002, Train Loss: 0.0349, Val Loss: 0.0275\n",
            "Epoch 003, Train Loss: 0.0299, Val Loss: 0.0235\n",
            "Epoch 004, Train Loss: 0.0254, Val Loss: 0.0225\n",
            "Epoch 005, Train Loss: 0.0258, Val Loss: 0.0261\n",
            "Epoch 006, Train Loss: 0.0227, Val Loss: 0.0196\n",
            "Epoch 007, Train Loss: 0.0224, Val Loss: 0.0190\n",
            "Epoch 008, Train Loss: 0.0216, Val Loss: 0.0170\n",
            "Epoch 009, Train Loss: 0.0196, Val Loss: 0.0271\n",
            "Epoch 010, Train Loss: 0.0198, Val Loss: 0.0204\n",
            "Epoch 011, Train Loss: 0.0180, Val Loss: 0.0146\n",
            "Epoch 012, Train Loss: 0.0199, Val Loss: 0.0160\n",
            "Epoch 013, Train Loss: 0.0185, Val Loss: 0.0165\n",
            "Epoch 014, Train Loss: 0.0181, Val Loss: 0.0164\n",
            "Epoch 015, Train Loss: 0.0189, Val Loss: 0.0150\n",
            "Epoch 016, Train Loss: 0.0181, Val Loss: 0.0154\n",
            "Epoch 017, Train Loss: 0.0191, Val Loss: 0.0171\n",
            "Epoch 018, Train Loss: 0.0190, Val Loss: 0.0168\n",
            "Epoch 019, Train Loss: 0.0176, Val Loss: 0.0186\n",
            "Epoch 020, Train Loss: 0.0175, Val Loss: 0.0153\n",
            "Epoch 021, Train Loss: 0.0201, Val Loss: 0.0157\n",
            "Epoch 022, Train Loss: 0.0175, Val Loss: 0.0189\n",
            "Epoch 023, Train Loss: 0.0166, Val Loss: 0.0145\n",
            "Epoch 024, Train Loss: 0.0157, Val Loss: 0.0240\n",
            "Epoch 025, Train Loss: 0.0177, Val Loss: 0.0299\n",
            "Epoch 026, Train Loss: 0.0179, Val Loss: 0.0194\n",
            "Epoch 027, Train Loss: 0.0163, Val Loss: 0.0138\n",
            "Epoch 028, Train Loss: 0.0148, Val Loss: 0.0159\n",
            "Epoch 029, Train Loss: 0.0163, Val Loss: 0.0161\n",
            "Epoch 030, Train Loss: 0.0155, Val Loss: 0.0144\n",
            "Epoch 031, Train Loss: 0.0159, Val Loss: 0.0178\n",
            "Epoch 032, Train Loss: 0.0154, Val Loss: 0.0135\n",
            "Epoch 033, Train Loss: 0.0161, Val Loss: 0.0220\n",
            "Epoch 034, Train Loss: 0.0160, Val Loss: 0.0142\n",
            "Epoch 035, Train Loss: 0.0154, Val Loss: 0.0142\n",
            "Epoch 036, Train Loss: 0.0160, Val Loss: 0.0149\n",
            "Epoch 037, Train Loss: 0.0160, Val Loss: 0.0166\n",
            "Epoch 038, Train Loss: 0.0171, Val Loss: 0.0251\n",
            "Epoch 039, Train Loss: 0.0163, Val Loss: 0.0150\n",
            "Epoch 040, Train Loss: 0.0160, Val Loss: 0.0163\n",
            "Test Loss: 0.0190\n"
          ]
        }
      ],
      "source": [
        "def train():\n",
        "    model.train()\n",
        "    total_loss = 0\n",
        "    for data in train_loader:\n",
        "        data = data.to(device)\n",
        "        optimizer.zero_grad()\n",
        "        out = model(data.x, data.edge_index, data.edge_attr, data.batch)\n",
        "        loss = loss_fn(out.view(-1), data.y.view(-1))\n",
        "        loss.backward()\n",
        "        optimizer.step()\n",
        "        total_loss += loss.item() * data.num_graphs\n",
        "    return total_loss / len(train_loader.dataset)\n",
        "\n",
        "def evaluate(loader):\n",
        "    model.eval()\n",
        "    total_loss = 0\n",
        "    with torch.no_grad():\n",
        "        for data in loader:\n",
        "            data = data.to(device)\n",
        "            out = model(data.x, data.edge_index, data.edge_attr, data.batch)\n",
        "            loss = loss_fn(out.view(-1), data.y.view(-1))\n",
        "            total_loss += loss.item() * data.num_graphs\n",
        "    return total_loss / len(loader.dataset)\n",
        "\n",
        "# Train model\n",
        "train_losses = []\n",
        "val_losses = []\n",
        "for epoch in range(1, 41):\n",
        "    train_loss = train()\n",
        "    val_loss = evaluate(val_loader)\n",
        "    print(f'Epoch {epoch:03d}, Train Loss: {train_loss:.4f}, Val Loss: {val_loss:.4f}')\n",
        "    train_losses.append(train_loss)\n",
        "    val_losses.append(val_loss)\n",
        "\n",
        "# Test model\n",
        "test_loss = evaluate(test_loader)\n",
        "print(f'Test Loss: {test_loss:.4f}')"
      ]
    },
    {
      "cell_type": "code",
      "execution_count": 8,
      "id": "3dc04e6d",
      "metadata": {
        "id": "3dc04e6d",
        "colab": {
          "base_uri": "https://localhost:8080/",
          "height": 472
        },
        "outputId": "2be97fb5-611f-4b42-9704-85b711e65632"
      },
      "outputs": [
        {
          "output_type": "display_data",
          "data": {
            "text/plain": [
              "<Figure size 640x480 with 1 Axes>"
            ],
            "image/png": "[encoded data removed]"
          },
          "metadata": {}
        }
      ],
      "source": [
        "import matplotlib.pyplot as plt\n",
        "\n",
        "plt.plot(train_losses, label='Train Loss')\n",
        "plt.xlabel('Epoch')\n",
        "plt.ylabel('Loss')\n",
        "plt.title('Training Loss')\n",
        "plt.legend()\n",
        "plt.show()"
      ]
    },
    {
      "cell_type": "code",
      "source": [
        "predicted_values = []\n",
        "actual_values = []\n",
        "\n",
        "with torch.no_grad():\n",
        "    for data in test_loader:\n",
        "        data = data.to(device)\n",
        "        predicted = model(data.x, data.edge_index, data.edge_attr, data.batch)\n",
        "\n",
        "        predicted_values.append(predicted.numpy())\n",
        "        actual_values.append(data.y.numpy())"
      ],
      "metadata": {
        "id": "51Zr7YkGjXOJ"
      },
      "id": "51Zr7YkGjXOJ",
      "execution_count": 9,
      "outputs": []
    },
    {
      "cell_type": "code",
      "source": [
        "total = len(predicted_values)\n",
        "all_predicted_values = predicted_values[0].flatten()\n",
        "i = 1\n",
        "while i != total:\n",
        "    new_predicted_values = predicted_values[i].flatten()\n",
        "\n",
        "    all_predicted_values = np.concatenate((all_predicted_values, new_predicted_values), axis=0)\n",
        "    i += 1\n",
        "\n",
        "print(all_predicted_values)"
      ],
      "metadata": {
        "id": "A6w1H1i4dVXh",
        "outputId": "586de2f3-3fdb-47a4-9b0b-e2e503703798",
        "colab": {
          "base_uri": "https://localhost:8080/"
        }
      },
      "id": "A6w1H1i4dVXh",
      "execution_count": 10,
      "outputs": [
        {
          "output_type": "stream",
          "name": "stdout",
          "text": [
            "[1.6666429  0.2656389  0.24548993 ... 1.2796326  0.3800435  0.25652227]\n"
          ]
        }
      ]
    },
    {
      "cell_type": "code",
      "source": [
        "total = len(actual_values)\n",
        "all_actual_values = actual_values[0].flatten()\n",
        "i = 1\n",
        "while i != total:\n",
        "    new_actual_values = actual_values[i].flatten()\n",
        "\n",
        "    all_actual_values = np.concatenate((all_actual_values, new_predicted_values), axis=0)\n",
        "    i += 1\n",
        "\n",
        "print(all_actual_values)"
      ],
      "metadata": {
        "id": "YjuQCQHZeokn",
        "outputId": "b13a5b99-bf7e-49e8-fee8-d94657c9b347",
        "colab": {
          "base_uri": "https://localhost:8080/"
        }
      },
      "id": "YjuQCQHZeokn",
      "execution_count": 11,
      "outputs": [
        {
          "output_type": "stream",
          "name": "stdout",
          "text": [
            "[1.8146     0.2059     0.1923     ... 1.2796326  0.3800435  0.25652227]\n"
          ]
        }
      ]
    },
    {
      "cell_type": "code",
      "source": [
        "for i in range(10):\n",
        "    print(f\"Predicted: {all_predicted_values[i]}, Actual: {all_actual_values[i]}\")"
      ],
      "metadata": {
        "id": "FHu3J05dfaEM",
        "outputId": "a2bf02b6-4c70-43e5-b0e7-e4045bdabe5b",
        "colab": {
          "base_uri": "https://localhost:8080/"
        }
      },
      "id": "FHu3J05dfaEM",
      "execution_count": 12,
      "outputs": [
        {
          "output_type": "stream",
          "name": "stdout",
          "text": [
            "Predicted: 1.6666429042816162, Actual: 1.8145999908447266\n",
            "Predicted: 0.26563888788223267, Actual: 0.20589999854564667\n",
            "Predicted: 0.2454899251461029, Actual: 0.1923000067472458\n",
            "Predicted: 0.9743042588233948, Actual: 1.1014000177383423\n",
            "Predicted: 0.24754071235656738, Actual: 0.2071000039577484\n",
            "Predicted: 0.2724834680557251, Actual: 0.34150001406669617\n",
            "Predicted: 0.4891395568847656, Actual: 0.3810499906539917\n",
            "Predicted: 1.1998403072357178, Actual: 1.2666000127792358\n",
            "Predicted: 0.4110981822013855, Actual: 0.42384999990463257\n",
            "Predicted: 1.7655531167984009, Actual: 1.808899998664856\n"
          ]
        }
      ]
    },
    {
      "cell_type": "code",
      "source": [
        "# Produce a graph\n",
        "plt.plot(all_predicted_values[:10], label='Predicted')\n",
        "plt.plot(all_actual_values[:10], label='Actual')\n",
        "plt.xlabel('Index')\n",
        "plt.ylabel('Band gap')\n",
        "plt.title('Predicted vs Actual Values')\n",
        "plt.legend()\n",
        "plt.show()"
      ],
      "metadata": {
        "id": "Y5-HSeW8jd7T",
        "outputId": "d66b70cf-268a-4a6c-f8af-ee3898422311",
        "colab": {
          "base_uri": "https://localhost:8080/",
          "height": 472
        }
      },
      "id": "Y5-HSeW8jd7T",
      "execution_count": 13,
      "outputs": [
        {
          "output_type": "display_data",
          "data": {
            "text/plain": [
              "<Figure size 640x480 with 1 Axes>"
            ],
            "image/png": "[encoded data removed]"
          },
          "metadata": {}
        }
      ]
    }
  ],
  "metadata": {
    "colab": {
      "provenance": [],
      "include_colab_link": true
    },
    "kernelspec": {
      "display_name": "MsProject",
      "language": "python",
      "name": "python3"
    },
    "language_info": {
      "codemirror_mode": {
        "name": "ipython",
        "version": 3
      },
      "file_extension": ".py",
      "mimetype": "text/x-python",
      "name": "python",
      "nbconvert_exporter": "python",
      "pygments_lexer": "ipython3",
      "version": "3.13.2"
    }
  },
  "nbformat": 4,
  "nbformat_minor": 5
}
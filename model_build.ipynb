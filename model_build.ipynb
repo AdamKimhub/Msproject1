{
  "cells": [
    {
      "cell_type": "markdown",
      "metadata": {
        "id": "view-in-github",
        "colab_type": "text"
      },
      "source": [
        "<a href=\"https://colab.research.google.com/github/AdamKimhub/Msproject1/blob/main/model_build.ipynb\" target=\"_parent\"><img src=\"https://colab.research.google.com/assets/colab-badge.svg\" alt=\"Open In Colab\"/></a>"
      ]
    },
    {
      "cell_type": "code",
      "execution_count": 24,
      "id": "2507cdbf",
      "metadata": {
        "colab": {
          "base_uri": "https://localhost:8080/"
        },
        "id": "2507cdbf",
        "outputId": "efbef633-8bc9-4c84-ec2c-2fcd8ad51432"
      },
      "outputs": [
        {
          "output_type": "stream",
          "name": "stdout",
          "text": [
            "Drive already mounted at /content/drive; to attempt to forcibly remount, call drive.mount(\"/content/drive\", force_remount=True).\n",
            "Requirement already satisfied: torch_geometric in /usr/local/lib/python3.11/dist-packages (2.6.1)\n",
            "Requirement already satisfied: aiohttp in /usr/local/lib/python3.11/dist-packages (from torch_geometric) (3.11.15)\n",
            "Requirement already satisfied: fsspec in /usr/local/lib/python3.11/dist-packages (from torch_geometric) (2025.3.2)\n",
            "Requirement already satisfied: jinja2 in /usr/local/lib/python3.11/dist-packages (from torch_geometric) (3.1.6)\n",
            "Requirement already satisfied: numpy in /usr/local/lib/python3.11/dist-packages (from torch_geometric) (2.0.2)\n",
            "Requirement already satisfied: psutil>=5.8.0 in /usr/local/lib/python3.11/dist-packages (from torch_geometric) (5.9.5)\n",
            "Requirement already satisfied: pyparsing in /usr/local/lib/python3.11/dist-packages (from torch_geometric) (3.2.3)\n",
            "Requirement already satisfied: requests in /usr/local/lib/python3.11/dist-packages (from torch_geometric) (2.32.3)\n",
            "Requirement already satisfied: tqdm in /usr/local/lib/python3.11/dist-packages (from torch_geometric) (4.67.1)\n",
            "Requirement already satisfied: aiohappyeyeballs>=2.3.0 in /usr/local/lib/python3.11/dist-packages (from aiohttp->torch_geometric) (2.6.1)\n",
            "Requirement already satisfied: aiosignal>=1.1.2 in /usr/local/lib/python3.11/dist-packages (from aiohttp->torch_geometric) (1.3.2)\n",
            "Requirement already satisfied: attrs>=17.3.0 in /usr/local/lib/python3.11/dist-packages (from aiohttp->torch_geometric) (25.3.0)\n",
            "Requirement already satisfied: frozenlist>=1.1.1 in /usr/local/lib/python3.11/dist-packages (from aiohttp->torch_geometric) (1.6.0)\n",
            "Requirement already satisfied: multidict<7.0,>=4.5 in /usr/local/lib/python3.11/dist-packages (from aiohttp->torch_geometric) (6.4.3)\n",
            "Requirement already satisfied: propcache>=0.2.0 in /usr/local/lib/python3.11/dist-packages (from aiohttp->torch_geometric) (0.3.1)\n",
            "Requirement already satisfied: yarl<2.0,>=1.17.0 in /usr/local/lib/python3.11/dist-packages (from aiohttp->torch_geometric) (1.20.0)\n",
            "Requirement already satisfied: MarkupSafe>=2.0 in /usr/local/lib/python3.11/dist-packages (from jinja2->torch_geometric) (3.0.2)\n",
            "Requirement already satisfied: charset-normalizer<4,>=2 in /usr/local/lib/python3.11/dist-packages (from requests->torch_geometric) (3.4.2)\n",
            "Requirement already satisfied: idna<4,>=2.5 in /usr/local/lib/python3.11/dist-packages (from requests->torch_geometric) (3.10)\n",
            "Requirement already satisfied: urllib3<3,>=1.21.1 in /usr/local/lib/python3.11/dist-packages (from requests->torch_geometric) (2.4.0)\n",
            "Requirement already satisfied: certifi>=2017.4.17 in /usr/local/lib/python3.11/dist-packages (from requests->torch_geometric) (2025.4.26)\n"
          ]
        }
      ],
      "source": [
        "import sys\n",
        "\n",
        "if \"google.colab\" in sys.modules:\n",
        "    # Mount Google Drive\n",
        "    from google.colab import drive\n",
        "    drive.mount('/content/drive')\n",
        "    dataset_path = '/content/drive/My Drive/dataset'\n",
        "\n",
        "    # Install required packages\n",
        "    !pip install torch_geometric\n",
        "    import torch\n",
        "    from torch_geometric.data import Data, DataLoader\n",
        "\n",
        "else:\n",
        "    dataset_path = 'dataset'"
      ]
    },
    {
      "cell_type": "markdown",
      "id": "c5ad1311",
      "metadata": {
        "id": "c5ad1311"
      },
      "source": [
        "## The data"
      ]
    },
    {
      "cell_type": "code",
      "execution_count": 25,
      "id": "7abbbf3e",
      "metadata": {
        "id": "7abbbf3e"
      },
      "outputs": [],
      "source": [
        "# Load the data\n",
        "# Training set\n",
        "train_graphs = torch.load(f\"{dataset_path}/combined/training.pt\", weights_only=False)\n",
        "\n",
        "# Validating set\n",
        "val_graphs = torch.load(f\"{dataset_path}/combined/validating.pt\", weights_only=False)\n",
        "\n",
        "# Testing set\n",
        "test_graphs = torch.load(f\"{dataset_path}/combined/testing.pt\", weights_only=False)"
      ]
    },
    {
      "cell_type": "code",
      "execution_count": 26,
      "id": "f635b07c",
      "metadata": {
        "id": "f635b07c"
      },
      "outputs": [],
      "source": [
        "# Create data loaders\n",
        "from torch_geometric.loader import DataLoader\n",
        "\n",
        "train_loader = DataLoader(train_graphs, batch_size=32, shuffle=True)\n",
        "val_loader = DataLoader(val_graphs, batch_size=32, shuffle=False)\n",
        "test_loader = DataLoader(test_graphs, batch_size=32, shuffle=False)"
      ]
    },
    {
      "cell_type": "markdown",
      "id": "0f31e77f",
      "metadata": {
        "id": "0f31e77f"
      },
      "source": [
        "## Build model"
      ]
    },
    {
      "cell_type": "markdown",
      "id": "f3f28737",
      "metadata": {
        "id": "f3f28737"
      },
      "source": [
        "### import dependancies"
      ]
    },
    {
      "cell_type": "code",
      "execution_count": 27,
      "id": "698c87d3",
      "metadata": {
        "id": "698c87d3"
      },
      "outputs": [],
      "source": [
        "# import dependancies\n",
        "import torch.nn as nn\n",
        "import torch.nn.functional as F\n",
        "from torch_geometric.nn import GCNConv, global_mean_pool, NNConv"
      ]
    },
    {
      "cell_type": "code",
      "execution_count": 28,
      "id": "4AKvTT3DMurV",
      "metadata": {
        "id": "4AKvTT3DMurV"
      },
      "outputs": [],
      "source": [
        "# Model focused on structure only\n",
        "class GNNModel(nn.Module):\n",
        "    def __init__(self, node_dim, edge_dim, hidden_dim):\n",
        "        super().__init__()\n",
        "        # Edge NN maps edge_attr to weight matrix\n",
        "        self.edge_nn = nn.Sequential(\n",
        "            nn.Linear(edge_dim, 32),\n",
        "            nn.ReLU(),\n",
        "            nn.Linear(32, node_dim * hidden_dim)\n",
        "        )\n",
        "\n",
        "        self.conv1 = NNConv(node_dim, hidden_dim, self.edge_nn, aggr='mean')\n",
        "        self.fc2 = nn.Linear(hidden_dim, 1)  # Regression output\n",
        "\n",
        "    def forward(self, x, edge_index, edge_attr,):\n",
        "        x = F.relu(self.conv1(x, edge_index, edge_attr))\n",
        "        x = self.fc2(x)\n",
        "        return x"
      ]
    },
    {
      "cell_type": "code",
      "execution_count": 29,
      "id": "4638f5bf",
      "metadata": {
        "id": "4638f5bf",
        "outputId": "aaea3815-2e4d-45e8-cd1b-722cf78c3492",
        "colab": {
          "base_uri": "https://localhost:8080/",
          "height": 140
        }
      },
      "outputs": [
        {
          "output_type": "execute_result",
          "data": {
            "text/plain": [
              "\"\\n# Model considering global attributes\\nclass GNNModel(nn.Module):\\n    def __init__(self, node_dim, edge_dim, global_dim, hidden_dim):\\n        super().__init__()\\n        # Edge NN maps edge_attr to weight matrix\\n        self.edge_nn = nn.Sequential(\\n            nn.Linear(edge_dim, 32),\\n            nn.ReLU(),\\n            nn.Linear(32, node_dim * hidden_dim)\\n        )\\n\\n        self.conv1 = NNConv(node_dim, hidden_dim, self.edge_nn, aggr='mean')\\n        self.conv2 = NNConv(hidden_dim, hidden_dim, self.edge_nn, aggr='mean')\\n\\n        self.fc1 = nn.Linear(hidden_dim + global_dim, hidden_dim)\\n        self.fc2 = nn.Linear(hidden_dim, 1)  # Regression output\\n\\n    def forward(self, x, edge_index, edge_attr, batch, global_attr):\\n        x = F.relu(self.conv1(x, edge_index, edge_attr))\\n        x = F.relu(self.conv2(x, edge_index, edge_attr))\\n        x = global_mean_pool(x, batch)\\n        x = torch.cat([x, global_attr], dim=1)\\n        x = F.relu(self.fc1(x))\\n        return self.fc2(x)\\n\""
            ],
            "application/vnd.google.colaboratory.intrinsic+json": {
              "type": "string"
            }
          },
          "metadata": {},
          "execution_count": 29
        }
      ],
      "source": [
        "'''\n",
        "# Model considering global attributes\n",
        "class GNNModel(nn.Module):\n",
        "    def __init__(self, node_dim, edge_dim, global_dim, hidden_dim):\n",
        "        super().__init__()\n",
        "        # Edge NN maps edge_attr to weight matrix\n",
        "        self.edge_nn = nn.Sequential(\n",
        "            nn.Linear(edge_dim, 32),\n",
        "            nn.ReLU(),\n",
        "            nn.Linear(32, node_dim * hidden_dim)\n",
        "        )\n",
        "\n",
        "        self.conv1 = NNConv(node_dim, hidden_dim, self.edge_nn, aggr='mean')\n",
        "        self.conv2 = NNConv(hidden_dim, hidden_dim, self.edge_nn, aggr='mean')\n",
        "\n",
        "        self.fc1 = nn.Linear(hidden_dim + global_dim, hidden_dim)\n",
        "        self.fc2 = nn.Linear(hidden_dim, 1)  # Regression output\n",
        "\n",
        "    def forward(self, x, edge_index, edge_attr, batch, global_attr):\n",
        "        x = F.relu(self.conv1(x, edge_index, edge_attr))\n",
        "        x = F.relu(self.conv2(x, edge_index, edge_attr))\n",
        "        x = global_mean_pool(x, batch)\n",
        "        x = torch.cat([x, global_attr], dim=1)\n",
        "        x = F.relu(self.fc1(x))\n",
        "        return self.fc2(x)\n",
        "'''"
      ]
    },
    {
      "cell_type": "markdown",
      "id": "080980e8",
      "metadata": {
        "id": "080980e8"
      },
      "source": [
        "### model instance, optimizer, loss function"
      ]
    },
    {
      "cell_type": "code",
      "execution_count": 30,
      "id": "223ecb4a",
      "metadata": {
        "id": "223ecb4a"
      },
      "outputs": [],
      "source": [
        "# Instantiate model, optimizer, loss\n",
        "\n",
        "# run the model in the gpu if the device has one\n",
        "device = torch.device('cuda' if torch.cuda.is_available() else 'cpu')\n",
        "\n",
        "# Instance of the model\n",
        "model = GNNModel(node_dim=8, edge_dim=3, hidden_dim=32).to(device) # Without global features\n",
        "# model = GNNModel(node_dim=8, edge_dim=3, global_dim=10, hidden_dim=32).to(device) # with global features\n",
        "\n",
        "\n",
        "# optimizer\n",
        "optimizer = torch.optim.Adam(model.parameters(), lr=0.01)\n",
        "\n",
        "# Loss function\n",
        "loss_fn = nn.MSELoss()"
      ]
    },
    {
      "cell_type": "markdown",
      "id": "dba21db1",
      "metadata": {
        "id": "dba21db1"
      },
      "source": [
        "### Train and validation loops"
      ]
    },
    {
      "cell_type": "code",
      "execution_count": 31,
      "id": "6588fcf2",
      "metadata": {
        "id": "6588fcf2"
      },
      "outputs": [],
      "source": [
        "def train():\n",
        "    model.train()\n",
        "    total_loss = 0\n",
        "    for data in train_loader:\n",
        "        data = data.to(device)\n",
        "        optimizer.zero_grad()\n",
        "        # out = model(data.x, data.edge_index, data.edge_attr, data.batch, data.u) # With global attributes\n",
        "        out = model(data.x, data.edge_index, data.edge_attr) # Without global attributes\n",
        "        loss = loss_fn(out, data.y)\n",
        "        loss.backward()\n",
        "        optimizer.step()\n",
        "        total_loss += loss.item() * data.num_graphs\n",
        "    return total_loss / len(train_loader.dataset)"
      ]
    },
    {
      "cell_type": "code",
      "execution_count": 32,
      "id": "3dc04e6d",
      "metadata": {
        "id": "3dc04e6d"
      },
      "outputs": [],
      "source": [
        "def evaluate(loader):\n",
        "    model.eval()\n",
        "    total_loss = 0\n",
        "    with torch.no_grad():\n",
        "        for data in loader:\n",
        "            data = data.to(device)\n",
        "            # out = model(data.x, data.edge_index, data.edge_attr, data.batch, data.u) # With global attributes\n",
        "            out = model(data.x, data.edge_index, data.edge_attr) # Without global attributes\n",
        "            loss = loss_fn(out, data.y)\n",
        "            total_loss += loss.item() * data.num_graphs\n",
        "    return total_loss / len(loader.dataset)"
      ]
    },
    {
      "cell_type": "code",
      "execution_count": 33,
      "id": "8520aec8",
      "metadata": {
        "id": "8520aec8"
      },
      "outputs": [],
      "source": [
        "### Training, validating, and testing"
      ]
    },
    {
      "cell_type": "code",
      "execution_count": 34,
      "id": "0c2d8919",
      "metadata": {
        "colab": {
          "base_uri": "https://localhost:8080/",
          "height": 1000
        },
        "id": "0c2d8919",
        "outputId": "cbe9708c-aeb0-484f-c27f-7c626f40d493"
      },
      "outputs": [
        {
          "output_type": "stream",
          "name": "stderr",
          "text": [
            "/usr/local/lib/python3.11/dist-packages/torch/nn/modules/loss.py:610: UserWarning: Using a target size (torch.Size([30])) that is different to the input size (torch.Size([326, 1])). This will likely lead to incorrect results due to broadcasting. Please ensure they have the same size.\n",
            "  return F.mse_loss(input, target, reduction=self.reduction)\n"
          ]
        },
        {
          "output_type": "stream",
          "name": "stdout",
          "text": [
            "Epoch 001, Train Loss: 239.2805, Val Loss: 69.7998\n"
          ]
        },
        {
          "output_type": "stream",
          "name": "stderr",
          "text": [
            "/usr/local/lib/python3.11/dist-packages/torch/nn/modules/loss.py:610: UserWarning: Using a target size (torch.Size([30])) that is different to the input size (torch.Size([313, 1])). This will likely lead to incorrect results due to broadcasting. Please ensure they have the same size.\n",
            "  return F.mse_loss(input, target, reduction=self.reduction)\n"
          ]
        },
        {
          "output_type": "stream",
          "name": "stdout",
          "text": [
            "Epoch 002, Train Loss: 20.8789, Val Loss: 8.7876\n"
          ]
        },
        {
          "output_type": "stream",
          "name": "stderr",
          "text": [
            "/usr/local/lib/python3.11/dist-packages/torch/nn/modules/loss.py:610: UserWarning: Using a target size (torch.Size([32])) that is different to the input size (torch.Size([287, 1])). This will likely lead to incorrect results due to broadcasting. Please ensure they have the same size.\n",
            "  return F.mse_loss(input, target, reduction=self.reduction)\n",
            "/usr/local/lib/python3.11/dist-packages/torch/nn/modules/loss.py:610: UserWarning: Using a target size (torch.Size([30])) that is different to the input size (torch.Size([338, 1])). This will likely lead to incorrect results due to broadcasting. Please ensure they have the same size.\n",
            "  return F.mse_loss(input, target, reduction=self.reduction)\n"
          ]
        },
        {
          "output_type": "stream",
          "name": "stdout",
          "text": [
            "Epoch 003, Train Loss: 4.4319, Val Loss: 1.8645\n",
            "Epoch 004, Train Loss: 1.9199, Val Loss: 0.6223\n"
          ]
        },
        {
          "output_type": "stream",
          "name": "stderr",
          "text": [
            "/usr/local/lib/python3.11/dist-packages/torch/nn/modules/loss.py:610: UserWarning: Using a target size (torch.Size([30])) that is different to the input size (torch.Size([302, 1])). This will likely lead to incorrect results due to broadcasting. Please ensure they have the same size.\n",
            "  return F.mse_loss(input, target, reduction=self.reduction)\n"
          ]
        },
        {
          "output_type": "stream",
          "name": "stdout",
          "text": [
            "Epoch 005, Train Loss: 1.0072, Val Loss: 0.6671\n",
            "Epoch 006, Train Loss: 0.6830, Val Loss: 0.5967\n",
            "Epoch 007, Train Loss: 0.5113, Val Loss: 0.4645\n"
          ]
        },
        {
          "output_type": "stream",
          "name": "stderr",
          "text": [
            "/usr/local/lib/python3.11/dist-packages/torch/nn/modules/loss.py:610: UserWarning: Using a target size (torch.Size([32])) that is different to the input size (torch.Size([266, 1])). This will likely lead to incorrect results due to broadcasting. Please ensure they have the same size.\n",
            "  return F.mse_loss(input, target, reduction=self.reduction)\n"
          ]
        },
        {
          "output_type": "stream",
          "name": "stdout",
          "text": [
            "Epoch 008, Train Loss: 0.4261, Val Loss: 0.4273\n"
          ]
        },
        {
          "output_type": "stream",
          "name": "stderr",
          "text": [
            "/usr/local/lib/python3.11/dist-packages/torch/nn/modules/loss.py:610: UserWarning: Using a target size (torch.Size([32])) that is different to the input size (torch.Size([420, 1])). This will likely lead to incorrect results due to broadcasting. Please ensure they have the same size.\n",
            "  return F.mse_loss(input, target, reduction=self.reduction)\n"
          ]
        },
        {
          "output_type": "stream",
          "name": "stdout",
          "text": [
            "Epoch 009, Train Loss: 0.4069, Val Loss: 0.4058\n",
            "Epoch 010, Train Loss: 0.3913, Val Loss: 0.3887\n"
          ]
        },
        {
          "output_type": "stream",
          "name": "stderr",
          "text": [
            "/usr/local/lib/python3.11/dist-packages/torch/nn/modules/loss.py:610: UserWarning: Using a target size (torch.Size([32])) that is different to the input size (torch.Size([274, 1])). This will likely lead to incorrect results due to broadcasting. Please ensure they have the same size.\n",
            "  return F.mse_loss(input, target, reduction=self.reduction)\n"
          ]
        },
        {
          "output_type": "stream",
          "name": "stdout",
          "text": [
            "Epoch 011, Train Loss: 0.3781, Val Loss: 0.3846\n"
          ]
        },
        {
          "output_type": "stream",
          "name": "stderr",
          "text": [
            "/usr/local/lib/python3.11/dist-packages/torch/nn/modules/loss.py:610: UserWarning: Using a target size (torch.Size([30])) that is different to the input size (torch.Size([251, 1])). This will likely lead to incorrect results due to broadcasting. Please ensure they have the same size.\n",
            "  return F.mse_loss(input, target, reduction=self.reduction)\n"
          ]
        },
        {
          "output_type": "stream",
          "name": "stdout",
          "text": [
            "Epoch 012, Train Loss: 0.3662, Val Loss: 0.3457\n"
          ]
        },
        {
          "output_type": "stream",
          "name": "stderr",
          "text": [
            "/usr/local/lib/python3.11/dist-packages/torch/nn/modules/loss.py:610: UserWarning: Using a target size (torch.Size([30])) that is different to the input size (torch.Size([307, 1])). This will likely lead to incorrect results due to broadcasting. Please ensure they have the same size.\n",
            "  return F.mse_loss(input, target, reduction=self.reduction)\n"
          ]
        },
        {
          "output_type": "stream",
          "name": "stdout",
          "text": [
            "Epoch 013, Train Loss: 0.3412, Val Loss: 0.3326\n",
            "Epoch 014, Train Loss: 0.3307, Val Loss: 0.3209\n"
          ]
        },
        {
          "output_type": "stream",
          "name": "stderr",
          "text": [
            "/usr/local/lib/python3.11/dist-packages/torch/nn/modules/loss.py:610: UserWarning: Using a target size (torch.Size([32])) that is different to the input size (torch.Size([403, 1])). This will likely lead to incorrect results due to broadcasting. Please ensure they have the same size.\n",
            "  return F.mse_loss(input, target, reduction=self.reduction)\n",
            "/usr/local/lib/python3.11/dist-packages/torch/nn/modules/loss.py:610: UserWarning: Using a target size (torch.Size([30])) that is different to the input size (torch.Size([332, 1])). This will likely lead to incorrect results due to broadcasting. Please ensure they have the same size.\n",
            "  return F.mse_loss(input, target, reduction=self.reduction)\n"
          ]
        },
        {
          "output_type": "stream",
          "name": "stdout",
          "text": [
            "Epoch 015, Train Loss: 0.3165, Val Loss: 0.3088\n",
            "Epoch 016, Train Loss: 0.3054, Val Loss: 0.2978\n",
            "Epoch 017, Train Loss: 0.3141, Val Loss: 0.2886\n",
            "Epoch 018, Train Loss: 0.2918, Val Loss: 0.2782\n"
          ]
        },
        {
          "output_type": "stream",
          "name": "stderr",
          "text": [
            "/usr/local/lib/python3.11/dist-packages/torch/nn/modules/loss.py:610: UserWarning: Using a target size (torch.Size([32])) that is different to the input size (torch.Size([273, 1])). This will likely lead to incorrect results due to broadcasting. Please ensure they have the same size.\n",
            "  return F.mse_loss(input, target, reduction=self.reduction)\n",
            "/usr/local/lib/python3.11/dist-packages/torch/nn/modules/loss.py:610: UserWarning: Using a target size (torch.Size([32])) that is different to the input size (torch.Size([279, 1])). This will likely lead to incorrect results due to broadcasting. Please ensure they have the same size.\n",
            "  return F.mse_loss(input, target, reduction=self.reduction)\n",
            "/usr/local/lib/python3.11/dist-packages/torch/nn/modules/loss.py:610: UserWarning: Using a target size (torch.Size([30])) that is different to the input size (torch.Size([350, 1])). This will likely lead to incorrect results due to broadcasting. Please ensure they have the same size.\n",
            "  return F.mse_loss(input, target, reduction=self.reduction)\n"
          ]
        },
        {
          "output_type": "stream",
          "name": "stdout",
          "text": [
            "Epoch 019, Train Loss: 0.2856, Val Loss: 0.2739\n"
          ]
        },
        {
          "output_type": "stream",
          "name": "stderr",
          "text": [
            "/usr/local/lib/python3.11/dist-packages/torch/nn/modules/loss.py:610: UserWarning: Using a target size (torch.Size([30])) that is different to the input size (torch.Size([258, 1])). This will likely lead to incorrect results due to broadcasting. Please ensure they have the same size.\n",
            "  return F.mse_loss(input, target, reduction=self.reduction)\n"
          ]
        },
        {
          "output_type": "stream",
          "name": "stdout",
          "text": [
            "Epoch 020, Train Loss: 0.2793, Val Loss: 0.2640\n"
          ]
        },
        {
          "output_type": "stream",
          "name": "stderr",
          "text": [
            "/usr/local/lib/python3.11/dist-packages/torch/nn/modules/loss.py:610: UserWarning: Using a target size (torch.Size([32])) that is different to the input size (torch.Size([254, 1])). This will likely lead to incorrect results due to broadcasting. Please ensure they have the same size.\n",
            "  return F.mse_loss(input, target, reduction=self.reduction)\n",
            "/usr/local/lib/python3.11/dist-packages/torch/nn/modules/loss.py:610: UserWarning: Using a target size (torch.Size([30])) that is different to the input size (torch.Size([308, 1])). This will likely lead to incorrect results due to broadcasting. Please ensure they have the same size.\n",
            "  return F.mse_loss(input, target, reduction=self.reduction)\n"
          ]
        },
        {
          "output_type": "stream",
          "name": "stdout",
          "text": [
            "Epoch 021, Train Loss: 0.2734, Val Loss: 0.2572\n"
          ]
        },
        {
          "output_type": "stream",
          "name": "stderr",
          "text": [
            "/usr/local/lib/python3.11/dist-packages/torch/nn/modules/loss.py:610: UserWarning: Using a target size (torch.Size([30])) that is different to the input size (torch.Size([318, 1])). This will likely lead to incorrect results due to broadcasting. Please ensure they have the same size.\n",
            "  return F.mse_loss(input, target, reduction=self.reduction)\n"
          ]
        },
        {
          "output_type": "stream",
          "name": "stdout",
          "text": [
            "Epoch 022, Train Loss: 0.2637, Val Loss: 0.2500\n"
          ]
        },
        {
          "output_type": "stream",
          "name": "stderr",
          "text": [
            "/usr/local/lib/python3.11/dist-packages/torch/nn/modules/loss.py:610: UserWarning: Using a target size (torch.Size([30])) that is different to the input size (torch.Size([276, 1])). This will likely lead to incorrect results due to broadcasting. Please ensure they have the same size.\n",
            "  return F.mse_loss(input, target, reduction=self.reduction)\n"
          ]
        },
        {
          "output_type": "stream",
          "name": "stdout",
          "text": [
            "Epoch 023, Train Loss: 0.2590, Val Loss: 0.2447\n",
            "Epoch 024, Train Loss: 0.2513, Val Loss: 0.2400\n"
          ]
        },
        {
          "output_type": "stream",
          "name": "stderr",
          "text": [
            "/usr/local/lib/python3.11/dist-packages/torch/nn/modules/loss.py:610: UserWarning: Using a target size (torch.Size([30])) that is different to the input size (torch.Size([253, 1])). This will likely lead to incorrect results due to broadcasting. Please ensure they have the same size.\n",
            "  return F.mse_loss(input, target, reduction=self.reduction)\n",
            "/usr/local/lib/python3.11/dist-packages/torch/nn/modules/loss.py:610: UserWarning: Using a target size (torch.Size([32])) that is different to the input size (torch.Size([259, 1])). This will likely lead to incorrect results due to broadcasting. Please ensure they have the same size.\n",
            "  return F.mse_loss(input, target, reduction=self.reduction)\n"
          ]
        },
        {
          "output_type": "stream",
          "name": "stdout",
          "text": [
            "Epoch 025, Train Loss: 0.2504, Val Loss: 0.2374\n",
            "Epoch 026, Train Loss: 0.2573, Val Loss: 0.2282\n"
          ]
        },
        {
          "output_type": "stream",
          "name": "stderr",
          "text": [
            "/usr/local/lib/python3.11/dist-packages/torch/nn/modules/loss.py:610: UserWarning: Using a target size (torch.Size([30])) that is different to the input size (torch.Size([314, 1])). This will likely lead to incorrect results due to broadcasting. Please ensure they have the same size.\n",
            "  return F.mse_loss(input, target, reduction=self.reduction)\n"
          ]
        },
        {
          "output_type": "stream",
          "name": "stdout",
          "text": [
            "Epoch 027, Train Loss: 0.2401, Val Loss: 0.2256\n"
          ]
        },
        {
          "output_type": "stream",
          "name": "stderr",
          "text": [
            "/usr/local/lib/python3.11/dist-packages/torch/nn/modules/loss.py:610: UserWarning: Using a target size (torch.Size([30])) that is different to the input size (torch.Size([284, 1])). This will likely lead to incorrect results due to broadcasting. Please ensure they have the same size.\n",
            "  return F.mse_loss(input, target, reduction=self.reduction)\n",
            "/usr/local/lib/python3.11/dist-packages/torch/nn/modules/loss.py:610: UserWarning: Using a target size (torch.Size([32])) that is different to the input size (torch.Size([407, 1])). This will likely lead to incorrect results due to broadcasting. Please ensure they have the same size.\n",
            "  return F.mse_loss(input, target, reduction=self.reduction)\n",
            "/usr/local/lib/python3.11/dist-packages/torch/nn/modules/loss.py:610: UserWarning: Using a target size (torch.Size([32])) that is different to the input size (torch.Size([252, 1])). This will likely lead to incorrect results due to broadcasting. Please ensure they have the same size.\n",
            "  return F.mse_loss(input, target, reduction=self.reduction)\n"
          ]
        },
        {
          "output_type": "stream",
          "name": "stdout",
          "text": [
            "Epoch 028, Train Loss: 0.2387, Val Loss: 0.2180\n",
            "Epoch 029, Train Loss: 0.2323, Val Loss: 0.2259\n",
            "Epoch 030, Train Loss: 0.2235, Val Loss: 0.2137\n"
          ]
        },
        {
          "output_type": "stream",
          "name": "stderr",
          "text": [
            "/usr/local/lib/python3.11/dist-packages/torch/nn/modules/loss.py:610: UserWarning: Using a target size (torch.Size([32])) that is different to the input size (torch.Size([383, 1])). This will likely lead to incorrect results due to broadcasting. Please ensure they have the same size.\n",
            "  return F.mse_loss(input, target, reduction=self.reduction)\n"
          ]
        },
        {
          "output_type": "stream",
          "name": "stdout",
          "text": [
            "Epoch 031, Train Loss: 0.2249, Val Loss: 0.2088\n",
            "Epoch 032, Train Loss: 0.2229, Val Loss: 0.2033\n",
            "Epoch 033, Train Loss: 0.2233, Val Loss: 0.2163\n"
          ]
        },
        {
          "output_type": "stream",
          "name": "stderr",
          "text": [
            "/usr/local/lib/python3.11/dist-packages/torch/nn/modules/loss.py:610: UserWarning: Using a target size (torch.Size([32])) that is different to the input size (torch.Size([269, 1])). This will likely lead to incorrect results due to broadcasting. Please ensure they have the same size.\n",
            "  return F.mse_loss(input, target, reduction=self.reduction)\n",
            "/usr/local/lib/python3.11/dist-packages/torch/nn/modules/loss.py:610: UserWarning: Using a target size (torch.Size([32])) that is different to the input size (torch.Size([414, 1])). This will likely lead to incorrect results due to broadcasting. Please ensure they have the same size.\n",
            "  return F.mse_loss(input, target, reduction=self.reduction)\n"
          ]
        },
        {
          "output_type": "stream",
          "name": "stdout",
          "text": [
            "Epoch 034, Train Loss: 0.2379, Val Loss: 0.2961\n"
          ]
        },
        {
          "output_type": "stream",
          "name": "stderr",
          "text": [
            "/usr/local/lib/python3.11/dist-packages/torch/nn/modules/loss.py:610: UserWarning: Using a target size (torch.Size([32])) that is different to the input size (torch.Size([263, 1])). This will likely lead to incorrect results due to broadcasting. Please ensure they have the same size.\n",
            "  return F.mse_loss(input, target, reduction=self.reduction)\n"
          ]
        },
        {
          "output_type": "stream",
          "name": "stdout",
          "text": [
            "Epoch 035, Train Loss: 0.2209, Val Loss: 0.2130\n",
            "Epoch 036, Train Loss: 0.2271, Val Loss: 0.2377\n"
          ]
        },
        {
          "output_type": "stream",
          "name": "stderr",
          "text": [
            "/usr/local/lib/python3.11/dist-packages/torch/nn/modules/loss.py:610: UserWarning: Using a target size (torch.Size([30])) that is different to the input size (torch.Size([242, 1])). This will likely lead to incorrect results due to broadcasting. Please ensure they have the same size.\n",
            "  return F.mse_loss(input, target, reduction=self.reduction)\n"
          ]
        },
        {
          "output_type": "stream",
          "name": "stdout",
          "text": [
            "Epoch 037, Train Loss: 0.2291, Val Loss: 0.2332\n",
            "Epoch 038, Train Loss: 0.2209, Val Loss: 0.2425\n",
            "Epoch 039, Train Loss: 0.2087, Val Loss: 0.1866\n"
          ]
        },
        {
          "output_type": "stream",
          "name": "stderr",
          "text": [
            "/usr/local/lib/python3.11/dist-packages/torch/nn/modules/loss.py:610: UserWarning: Using a target size (torch.Size([32])) that is different to the input size (torch.Size([268, 1])). This will likely lead to incorrect results due to broadcasting. Please ensure they have the same size.\n",
            "  return F.mse_loss(input, target, reduction=self.reduction)\n",
            "/usr/local/lib/python3.11/dist-packages/torch/nn/modules/loss.py:610: UserWarning: Using a target size (torch.Size([32])) that is different to the input size (torch.Size([391, 1])). This will likely lead to incorrect results due to broadcasting. Please ensure they have the same size.\n",
            "  return F.mse_loss(input, target, reduction=self.reduction)\n"
          ]
        },
        {
          "output_type": "stream",
          "name": "stdout",
          "text": [
            "Epoch 040, Train Loss: 0.1947, Val Loss: 0.1951\n",
            "Test Loss: 0.1969\n"
          ]
        },
        {
          "output_type": "display_data",
          "data": {
            "text/plain": [
              "<Figure size 640x480 with 1 Axes>"
            ],
            "image/png": "[encoded data removed]"
          },
          "metadata": {}
        }
      ],
      "source": [
        "# Run training and testing\n",
        "import matplotlib.pyplot as plt\n",
        "train_losses = []\n",
        "val_losses = []\n",
        "for epoch in range(1, 41):\n",
        "    train_loss = train()\n",
        "    val_loss = evaluate(val_loader)\n",
        "    print(f'Epoch {epoch:03d}, Train Loss: {train_loss:.4f}, Val Loss: {val_loss:.4f}')\n",
        "    train_losses.append(train_loss)\n",
        "    val_losses.append(val_loss)\n",
        "\n",
        "test_loss = evaluate(test_loader)\n",
        "print(f'Test Loss: {test_loss:.4f}')\n",
        "\n",
        "# Plotting the training and validation loss\n",
        "plt.plot(train_losses, label='Train Loss')\n",
        "# plt.plot(val_losses, label='Validation Loss')\n",
        "plt.xlabel('Epoch')\n",
        "plt.ylabel('Loss')\n",
        "plt.title('Training and Validation Loss')\n",
        "plt.legend()\n",
        "plt.show()\n"
      ]
    }
  ],
  "metadata": {
    "colab": {
      "provenance": [],
      "include_colab_link": true
    },
    "kernelspec": {
      "display_name": "MsProject",
      "language": "python",
      "name": "python3"
    },
    "language_info": {
      "codemirror_mode": {
        "name": "ipython",
        "version": 3
      },
      "file_extension": ".py",
      "mimetype": "text/x-python",
      "name": "python",
      "nbconvert_exporter": "python",
      "pygments_lexer": "ipython3",
      "version": "3.13.2"
    }
  },
  "nbformat": 4,
  "nbformat_minor": 5
}
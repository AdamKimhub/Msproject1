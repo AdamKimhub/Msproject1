{
  "cells": [
    {
      "cell_type": "markdown",
      "id": "62be90b9",
      "metadata": {
        "colab_type": "text",
        "id": "view-in-github"
      },
      "source": [
        "<a href=\"https://colab.research.google.com/github/AdamKimhub/Msproject1/blob/main/model_build.ipynb\" target=\"_parent\"><img src=\"https://colab.research.google.com/assets/colab-badge.svg\" alt=\"Open In Colab\"/></a>"
      ]
    },
    {
      "cell_type": "code",
      "execution_count": 1,
      "id": "2507cdbf",
      "metadata": {
        "colab": {
          "base_uri": "https://localhost:8080/"
        },
        "id": "2507cdbf",
        "outputId": "4d8a9567-1fcc-4328-9d7a-47a6c1c610a3"
      },
      "outputs": [
        {
          "name": "stdout",
          "output_type": "stream",
          "text": [
            "Mounted at /content/drive\n",
            "Collecting torch_geometric\n",
            "  Downloading torch_geometric-2.6.1-py3-none-any.whl.metadata (63 kB)\n",
            "\u001b[2K     \u001b[90m━━━━━━━━━━━━━━━━━━━━━━━━━━━━━━━━━━━━━━━━\u001b[0m \u001b[32m63.1/63.1 kB\u001b[0m \u001b[31m2.4 MB/s\u001b[0m eta \u001b[36m0:00:00\u001b[0m\n",
            "\u001b[?25hRequirement already satisfied: aiohttp in /usr/local/lib/python3.11/dist-packages (from torch_geometric) (3.11.15)\n",
            "Requirement already satisfied: fsspec in /usr/local/lib/python3.11/dist-packages (from torch_geometric) (2025.3.2)\n",
            "Requirement already satisfied: jinja2 in /usr/local/lib/python3.11/dist-packages (from torch_geometric) (3.1.6)\n",
            "Requirement already satisfied: numpy in /usr/local/lib/python3.11/dist-packages (from torch_geometric) (2.0.2)\n",
            "Requirement already satisfied: psutil>=5.8.0 in /usr/local/lib/python3.11/dist-packages (from torch_geometric) (5.9.5)\n",
            "Requirement already satisfied: pyparsing in /usr/local/lib/python3.11/dist-packages (from torch_geometric) (3.2.3)\n",
            "Requirement already satisfied: requests in /usr/local/lib/python3.11/dist-packages (from torch_geometric) (2.32.3)\n",
            "Requirement already satisfied: tqdm in /usr/local/lib/python3.11/dist-packages (from torch_geometric) (4.67.1)\n",
            "Requirement already satisfied: aiohappyeyeballs>=2.3.0 in /usr/local/lib/python3.11/dist-packages (from aiohttp->torch_geometric) (2.6.1)\n",
            "Requirement already satisfied: aiosignal>=1.1.2 in /usr/local/lib/python3.11/dist-packages (from aiohttp->torch_geometric) (1.3.2)\n",
            "Requirement already satisfied: attrs>=17.3.0 in /usr/local/lib/python3.11/dist-packages (from aiohttp->torch_geometric) (25.3.0)\n",
            "Requirement already satisfied: frozenlist>=1.1.1 in /usr/local/lib/python3.11/dist-packages (from aiohttp->torch_geometric) (1.6.0)\n",
            "Requirement already satisfied: multidict<7.0,>=4.5 in /usr/local/lib/python3.11/dist-packages (from aiohttp->torch_geometric) (6.4.3)\n",
            "Requirement already satisfied: propcache>=0.2.0 in /usr/local/lib/python3.11/dist-packages (from aiohttp->torch_geometric) (0.3.1)\n",
            "Requirement already satisfied: yarl<2.0,>=1.17.0 in /usr/local/lib/python3.11/dist-packages (from aiohttp->torch_geometric) (1.20.0)\n",
            "Requirement already satisfied: MarkupSafe>=2.0 in /usr/local/lib/python3.11/dist-packages (from jinja2->torch_geometric) (3.0.2)\n",
            "Requirement already satisfied: charset-normalizer<4,>=2 in /usr/local/lib/python3.11/dist-packages (from requests->torch_geometric) (3.4.2)\n",
            "Requirement already satisfied: idna<4,>=2.5 in /usr/local/lib/python3.11/dist-packages (from requests->torch_geometric) (3.10)\n",
            "Requirement already satisfied: urllib3<3,>=1.21.1 in /usr/local/lib/python3.11/dist-packages (from requests->torch_geometric) (2.4.0)\n",
            "Requirement already satisfied: certifi>=2017.4.17 in /usr/local/lib/python3.11/dist-packages (from requests->torch_geometric) (2025.4.26)\n",
            "Downloading torch_geometric-2.6.1-py3-none-any.whl (1.1 MB)\n",
            "\u001b[2K   \u001b[90m━━━━━━━━━━━━━━━━━━━━━━━━━━━━━━━━━━━━━━━━\u001b[0m \u001b[32m1.1/1.1 MB\u001b[0m \u001b[31m24.1 MB/s\u001b[0m eta \u001b[36m0:00:00\u001b[0m\n",
            "\u001b[?25hInstalling collected packages: torch_geometric\n",
            "Successfully installed torch_geometric-2.6.1\n"
          ]
        }
      ],
      "source": [
        "import sys\n",
        "\n",
        "if \"google.colab\" in sys.modules:\n",
        "    # Mount Google Drive\n",
        "    from google.colab import drive\n",
        "    drive.mount('/content/drive')\n",
        "    dataset_path = '/content/drive/My Drive/dataset'\n",
        "\n",
        "    # Install required packages\n",
        "    !pip install torch_geometric\n",
        "    import torch\n",
        "    from torch_geometric.data import Data, DataLoader\n",
        "\n",
        "else:\n",
        "    dataset_path = 'dataset'"
      ]
    },
    {
      "cell_type": "markdown",
      "id": "c5ad1311",
      "metadata": {
        "id": "c5ad1311"
      },
      "source": [
        "## The data"
      ]
    },
    {
      "cell_type": "code",
      "execution_count": 2,
      "id": "7abbbf3e",
      "metadata": {
        "id": "7abbbf3e"
      },
      "outputs": [],
      "source": [
        "# Load the data\n",
        "# Training set\n",
        "train_graphs = torch.load(f\"{dataset_path}/combined/training.pt\", weights_only=False)\n",
        "\n",
        "# Validating set\n",
        "val_graphs = torch.load(f\"{dataset_path}/combined/validating.pt\", weights_only=False)\n",
        "\n",
        "# Testing set\n",
        "test_graphs = torch.load(f\"{dataset_path}/combined/testing.pt\", weights_only=False)"
      ]
    },
    {
      "cell_type": "code",
      "execution_count": 3,
      "id": "f635b07c",
      "metadata": {
        "id": "f635b07c"
      },
      "outputs": [],
      "source": [
        "# Create data loaders\n",
        "from torch_geometric.loader import DataLoader\n",
        "\n",
        "train_loader = DataLoader(train_graphs, batch_size=32, shuffle=True)\n",
        "val_loader = DataLoader(val_graphs, batch_size=32, shuffle=False)\n",
        "test_loader = DataLoader(test_graphs, batch_size=32, shuffle=False)"
      ]
    },
    {
      "cell_type": "markdown",
      "id": "0f31e77f",
      "metadata": {
        "id": "0f31e77f"
      },
      "source": [
        "## Build model"
      ]
    },
    {
      "cell_type": "markdown",
      "id": "f3f28737",
      "metadata": {
        "id": "f3f28737"
      },
      "source": [
        "### import dependancies"
      ]
    },
    {
      "cell_type": "code",
      "execution_count": 4,
      "id": "698c87d3",
      "metadata": {
        "id": "698c87d3"
      },
      "outputs": [],
      "source": [
        "# import dependancies\n",
        "import torch.nn as nn\n",
        "import torch.nn.functional as F\n",
        "from torch_geometric.nn import GCNConv, global_mean_pool, NNConv"
      ]
    },
    {
      "cell_type": "code",
      "execution_count": 10,
      "id": "4AKvTT3DMurV",
      "metadata": {
        "id": "4AKvTT3DMurV"
      },
      "outputs": [],
      "source": [
        "# Model focused on structure only\n",
        "class GNNModel(nn.Module):\n",
        "    def __init__(self, node_dim, edge_dim, hidden_dim):\n",
        "        super().__init__()\n",
        "        # Edge NN maps edge_attr to weight matrix\n",
        "        self.edge_nn = nn.Sequential(\n",
        "            nn.Linear(edge_dim, 32),\n",
        "            nn.ReLU(),\n",
        "            nn.Linear(32, node_dim * hidden_dim)\n",
        "        )\n",
        "\n",
        "        self.conv1 = NNConv(node_dim, hidden_dim, self.edge_nn, aggr='mean')\n",
        "        self.fc2 = nn.Linear(hidden_dim, 1)  # Regression output\n",
        "\n",
        "    def forward(self, x, edge_index, edge_attr,):\n",
        "        x = F.relu(self.conv1(x, edge_index, edge_attr))\n",
        "        x = self.fc2(x)\n",
        "        return x"
      ]
    },
    {
      "cell_type": "code",
      "execution_count": null,
      "id": "4638f5bf",
      "metadata": {
        "id": "4638f5bf"
      },
      "outputs": [],
      "source": [
        "# Model considering global attributes\n",
        "class GNNModel(nn.Module):\n",
        "    def __init__(self, node_dim, edge_dim, global_dim, hidden_dim):\n",
        "        super().__init__()\n",
        "        # Edge NN maps edge_attr to weight matrix\n",
        "        self.edge_nn = nn.Sequential(\n",
        "            nn.Linear(edge_dim, 32),\n",
        "            nn.ReLU(),\n",
        "            nn.Linear(32, node_dim * hidden_dim)\n",
        "        )\n",
        "\n",
        "        self.conv1 = NNConv(node_dim, hidden_dim, self.edge_nn, aggr='mean')\n",
        "        self.conv2 = NNConv(hidden_dim, hidden_dim, self.edge_nn, aggr='mean')\n",
        "\n",
        "        self.fc1 = nn.Linear(hidden_dim + global_dim, hidden_dim)\n",
        "        self.fc2 = nn.Linear(hidden_dim, 1)  # Regression output\n",
        "\n",
        "    def forward(self, x, edge_index, edge_attr, batch, global_attr):\n",
        "        x = F.relu(self.conv1(x, edge_index, edge_attr))\n",
        "        x = F.relu(self.conv2(x, edge_index, edge_attr))\n",
        "        x = global_mean_pool(x, batch)\n",
        "        x = torch.cat([x, global_attr], dim=1)\n",
        "        x = F.relu(self.fc1(x))\n",
        "        return self.fc2(x)"
      ]
    },
    {
      "cell_type": "markdown",
      "id": "080980e8",
      "metadata": {
        "id": "080980e8"
      },
      "source": [
        "### model instance, optimizer, loss function"
      ]
    },
    {
      "cell_type": "code",
      "execution_count": 11,
      "id": "223ecb4a",
      "metadata": {
        "id": "223ecb4a"
      },
      "outputs": [],
      "source": [
        "# Instantiate model, optimizer, loss\n",
        "\n",
        "# run the model in the gpu if the device has one\n",
        "device = torch.device('cuda' if torch.cuda.is_available() else 'cpu')\n",
        "\n",
        "# Instance of the model\n",
        "model = GNNModel(node_dim=8, edge_dim=3, hidden_dim=32).to(device) # Without global features\n",
        "# model = GNNModel(node_dim=8, edge_dim=3, global_dim=10, hidden_dim=32).to(device) # with global features\n",
        "\n",
        "\n",
        "# optimizer\n",
        "optimizer = torch.optim.Adam(model.parameters(), lr=0.01)\n",
        "\n",
        "# Loss function\n",
        "loss_fn = nn.MSELoss()"
      ]
    },
    {
      "cell_type": "markdown",
      "id": "dba21db1",
      "metadata": {
        "id": "dba21db1"
      },
      "source": [
        "### Train and validation loops"
      ]
    },
    {
      "cell_type": "code",
      "execution_count": 2,
      "id": "6588fcf2",
      "metadata": {
        "id": "6588fcf2"
      },
      "outputs": [],
      "source": [
        "def train():\n",
        "    model.train()\n",
        "    total_loss = 0\n",
        "    for data in train_loader:\n",
        "        data = data.to(device)\n",
        "        optimizer.zero_grad()\n",
        "        # out = model(data.x, data.edge_index, data.edge_attr, data.batch, data.u) # With global attributes\n",
        "        out = model(data.x, data.edge_index, data.edge_attr) # Without global attributes\n",
        "        loss = loss_fn(out, data.y)\n",
        "        loss.backward()\n",
        "        optimizer.step()\n",
        "        total_loss += loss.item() * data.num_graphs\n",
        "    return total_loss / len(train_loader.dataset)"
      ]
    },
    {
      "cell_type": "code",
      "execution_count": 3,
      "id": "3dc04e6d",
      "metadata": {
        "id": "3dc04e6d"
      },
      "outputs": [],
      "source": [
        "def evaluate(loader):\n",
        "    model.eval()\n",
        "    total_loss = 0\n",
        "    with torch.no_grad():\n",
        "        for data in loader:\n",
        "            data = data.to(device)\n",
        "            # out = model(data.x, data.edge_index, data.edge_attr, data.batch, data.u) # With global attributes\n",
        "            out = model(data.x, data.edge_index, data.edge_attr) # Without global attributes\n",
        "            loss = loss_fn(out, data.y)\n",
        "            total_loss += loss.item() * data.num_graphs\n",
        "    return total_loss / len(loader.dataset)"
      ]
    },
    {
      "cell_type": "code",
      "execution_count": null,
      "id": "8520aec8",
      "metadata": {
        "id": "8520aec8"
      },
      "outputs": [],
      "source": [
        "### Training, validating, and testing"
      ]
    },
    {
      "cell_type": "code",
      "execution_count": null,
      "id": "0c2d8919",
      "metadata": {
        "colab": {
          "base_uri": "https://localhost:8080/"
        },
        "id": "0c2d8919",
        "outputId": "7c0ab94a-e640-438c-b468-abc4b280019f"
      },
      "outputs": [],
      "source": [
        "# Run training and testing\n",
        "import matplotlib.pyplot as plt\n",
        "train_losses = []\n",
        "val_losses = []\n",
        "for epoch in range(1, 41):\n",
        "    train_loss = train()\n",
        "    val_loss = evaluate(val_loader)\n",
        "    print(f'Epoch {epoch:03d}, Train Loss: {train_loss:.4f}, Val Loss: {val_loss:.4f}')\n",
        "    train_losses.append(train_loss)\n",
        "    val_losses.append(val_loss)\n",
        "\n",
        "test_loss = evaluate(test_loader)\n",
        "print(f'Test Loss: {test_loss:.4f}')\n",
        "\n",
        "# Plotting the training and validation loss\n",
        "plt.plot(train_losses, label='Train Loss')\n",
        "plt.plot(val_losses, label='Validation Loss')\n",
        "plt.xlabel('Epoch')\n",
        "plt.ylabel('Loss')\n",
        "plt.title('Training and Validation Loss')\n",
        "plt.legend()\n",
        "plt.show()\n"
      ]
    }
  ],
  "metadata": {
    "colab": {
      "include_colab_link": true,
      "provenance": []
    },
    "kernelspec": {
      "display_name": "MsProject",
      "language": "python",
      "name": "python3"
    },
    "language_info": {
      "codemirror_mode": {
        "name": "ipython",
        "version": 3
      },
      "file_extension": ".py",
      "mimetype": "text/x-python",
      "name": "python",
      "nbconvert_exporter": "python",
      "pygments_lexer": "ipython3",
      "version": "3.13.2"
    }
  },
  "nbformat": 4,
  "nbformat_minor": 5
}

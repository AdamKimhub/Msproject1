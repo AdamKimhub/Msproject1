{
 "cells": [
  {
   "cell_type": "code",
   "execution_count": null,
   "metadata": {},
   "outputs": [],
   "source": [
    "from pathlib import Path\n",
    "import ast\n",
    "import numpy as np\n",
    "from pymatgen.core import Structure, PeriodicSite, DummySpecie\n",
    "from pymatgen.analysis.local_env import MinimumDistanceNN\n"
   ]
  },
  {
   "cell_type": "code",
   "execution_count": null,
   "metadata": {},
   "outputs": [],
   "source": [
    "# Load defective structure\n",
    "defective_file_path = Path(\"dataset/low_MoS2/cifs/6141cf1a1d648932fbc34297.cif\")\n",
    "defective_structure = Structure.from_file(defective_file_path)\n",
    "\n",
    "# Get reference structure\n",
    "ref_file_path = Path(\"dataset/low_MoS2/MoS2.cif\")\n",
    "ref_unit_cell = Structure.from_file(ref_file_path)\n",
    "reference_structure = ref_unit_cell.make_supercell([8,8,1])"
   ]
  },
  {
   "cell_type": "code",
   "execution_count": null,
   "metadata": {},
   "outputs": [],
   "source": [
    "def struct_to_dict(structure):\n",
    "    list_of_sites = structure.sites\n",
    "    list_of_frac_coords = np.round(structure.frac_coords,3)\n",
    "    structure_dict = {i: j for i, j in zip(list_of_sites, list_of_frac_coords)}\n",
    "    return structure_dict\n",
    "\n",
    "\n",
    "def get_defects_structure(defective_struct, reference_struct):\n",
    "    copy_defective_struct = defective_struct.copy()\n",
    "    # struct to dict\n",
    "    defective_dict = struct_to_dict(copy_defective_struct)\n",
    "    reference_dict = struct_to_dict(reference_struct)\n",
    "\n",
    "    # Get lattice of defective structure\n",
    "    structure_lattice = copy_defective_struct.lattice\n",
    "\n",
    "    # List to add all defect sites\n",
    "    defects_list = []\n",
    "\n",
    "    # Dictionary to hold properties of each defect site\n",
    "    defects_properties = {} \n",
    "\n",
    "    for ref_site, ref_coords in reference_dict.items():\n",
    "        matching = False\n",
    "        for def_site, def_coords in defective_dict.items():\n",
    "            if np.array_equal(ref_coords, def_coords):\n",
    "                matching = True\n",
    "                if ref_site.specie != def_site.specie: # Substitution case\n",
    "                    # Add site to defects list\n",
    "                    defects_list.append(def_site)\n",
    "\n",
    "                    # Get atomic number change and defect type\n",
    "                    add_property = {\"original_an\":ref_site.specie.Z,\n",
    "                                    \"new_an\": def_site.specie.Z,\n",
    "                                    \"an_change\": def_site.specie.Z - ref_site.specie.Z,\n",
    "                                    \"vacancy_defect\": 0.0,\n",
    "                                    \"substitution_defect\": 1.0}\n",
    "                    defects_properties[def_site] = add_property\n",
    "\n",
    "        if not matching: # Vacancy case\n",
    "            # Add site to defective structure\n",
    "            vacant_site = PeriodicSite(\n",
    "                species= DummySpecie(),\n",
    "                coords= ref_coords,\n",
    "                coords_are_cartesian= False, \n",
    "                lattice= structure_lattice\n",
    "                )\n",
    "            \n",
    "            # Add site to defects list\n",
    "            defects_list.append(vacant_site)\n",
    "\n",
    "            # Get atomic number change and defect type\n",
    "            add_property={\"original_an\":ref_site.specie.Z,\n",
    "                          \"new_an\": 0,\n",
    "                          \"an_change\": 0 - ref_site.specie.Z,\n",
    "                          \"vacancy_defect\": 1.0,\n",
    "                          \"substitution_defect\": 0.0}\n",
    "            defects_properties[vacant_site] = add_property\n",
    "\n",
    "    # create a defects structure\n",
    "    defects_struct = Structure.from_sites(defects_list)\n",
    "\n",
    "    # Add properties to defects structure\n",
    "    for a_site in defects_struct.sites:\n",
    "        if a_site in defects_properties.keys():\n",
    "            a_site.properties.update(defects_properties[a_site])\n",
    "        else:\n",
    "            pass\n",
    "\n",
    "    return defects_struct"
   ]
  },
  {
   "cell_type": "code",
   "execution_count": null,
   "metadata": {},
   "outputs": [],
   "source": [
    "defects_structure = get_defects_structure(defective_structure, reference_structure)\n",
    "print(defects_structure)"
   ]
  },
  {
   "cell_type": "markdown",
   "metadata": {},
   "source": [
    "`nodes` = node features (matrix, one row per node)\n",
    "\n",
    "`edges` = connectivity (which node connects to which node)\n",
    "\n",
    "`edge_features` = edge features (like distance)\n",
    "\n",
    "`y` = target (band gap)\n",
    "\n",
    "`u` = global features (formation energy, total_mag, etc.)"
   ]
  },
  {
   "cell_type": "code",
   "execution_count": null,
   "metadata": {},
   "outputs": [],
   "source": [
    "def get_nodes_edges(structure):\n",
    "    sites_list = structure.sites\n",
    "\n",
    "    # The nodes: These are the sites features\n",
    "    mdnn = MinimumDistanceNN()\n",
    "    nodes = []\n",
    "    for i, site in enumerate(sites_list):\n",
    "        the_cn = mdnn.get_cn(structure, i)\n",
    "        node_features = [i, the_cn - 1, site.properties[\"original_an\"], site.properties[\"new_an\"],\n",
    "                         site.properties[\"an_change\"], site.properties[\"vacancy_defect\"],\n",
    "                         site.properties[\"substitution_defect\"]]\n",
    "        # Node features syntax\n",
    "        '''[index of site, number of nearset neighbors to site, Z_before defect,\n",
    "        Z_after defect, Z_change, is site vac_site(1  for yes, 0 for no), is site sub_site(1 for yes, 0 for no)]'''\n",
    "        nodes.append(node_features)\n",
    "         \n",
    "\n",
    "    # The edges\n",
    "    edges = [] # The sites in relation\n",
    "    edge_features = [] # The distance between each site\n",
    "    \n",
    "    for i, site_i in enumerate(sites_list):\n",
    "        for j, site_j  in enumerate(sites_list):\n",
    "            if i != j:\n",
    "                edges.append([i,j])\n",
    "                dist = site_i.distance(site_j)\n",
    "                edge_features.append([dist])\n",
    "\n",
    "    return nodes, edges, edge_features\n",
    "    "
   ]
  },
  {
   "cell_type": "code",
   "execution_count": null,
   "metadata": {},
   "outputs": [],
   "source": [
    "the_nodes, the_edges, the_edge_features = get_nodes_edges(defects_structure)"
   ]
  }
 ],
 "metadata": {
  "kernelspec": {
   "display_name": "MsProject",
   "language": "python",
   "name": "python3"
  },
  "language_info": {
   "codemirror_mode": {
    "name": "ipython",
    "version": 3
   },
   "file_extension": ".py",
   "mimetype": "text/x-python",
   "name": "python",
   "nbconvert_exporter": "python",
   "pygments_lexer": "ipython3",
   "version": "3.13.2"
  }
 },
 "nbformat": 4,
 "nbformat_minor": 2
}
